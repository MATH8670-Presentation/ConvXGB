{
 "cells": [
  {
   "cell_type": "code",
   "execution_count": 2,
   "id": "8e8a4352-35b7-4e80-895f-918150e8cf44",
   "metadata": {},
   "outputs": [],
   "source": [
    "import keras\n",
    "from keras.utils.np_utils import to_categorical\n",
    "\n",
    "import pandas as pd\n",
    "import numpy as np"
   ]
  },
  {
   "cell_type": "code",
   "execution_count": 3,
   "id": "24e870d0-4129-4243-a391-cd550fb6e586",
   "metadata": {},
   "outputs": [
    {
     "data": {
      "text/html": [
       "<div>\n",
       "<style scoped>\n",
       "    .dataframe tbody tr th:only-of-type {\n",
       "        vertical-align: middle;\n",
       "    }\n",
       "\n",
       "    .dataframe tbody tr th {\n",
       "        vertical-align: top;\n",
       "    }\n",
       "\n",
       "    .dataframe thead th {\n",
       "        text-align: right;\n",
       "    }\n",
       "</style>\n",
       "<table border=\"1\" class=\"dataframe\">\n",
       "  <thead>\n",
       "    <tr style=\"text-align: right;\">\n",
       "      <th></th>\n",
       "      <th>F1</th>\n",
       "      <th>F2</th>\n",
       "      <th>F3</th>\n",
       "      <th>F4</th>\n",
       "      <th>F5</th>\n",
       "      <th>F6</th>\n",
       "      <th>F7</th>\n",
       "      <th>F8</th>\n",
       "      <th>F9</th>\n",
       "      <th>F10</th>\n",
       "      <th>...</th>\n",
       "      <th>F40</th>\n",
       "      <th>F41</th>\n",
       "      <th>F42</th>\n",
       "      <th>F43</th>\n",
       "      <th>F44</th>\n",
       "      <th>F45</th>\n",
       "      <th>F46</th>\n",
       "      <th>F47</th>\n",
       "      <th>F48</th>\n",
       "      <th>TARGET</th>\n",
       "    </tr>\n",
       "  </thead>\n",
       "  <tbody>\n",
       "    <tr>\n",
       "      <th>0</th>\n",
       "      <td>-3.014600e-07</td>\n",
       "      <td>8.260300e-06</td>\n",
       "      <td>-0.000012</td>\n",
       "      <td>-0.000002</td>\n",
       "      <td>-1.438600e-06</td>\n",
       "      <td>-0.000021</td>\n",
       "      <td>0.031718</td>\n",
       "      <td>0.031710</td>\n",
       "      <td>0.031721</td>\n",
       "      <td>-0.032963</td>\n",
       "      <td>...</td>\n",
       "      <td>-0.63308</td>\n",
       "      <td>2.9646</td>\n",
       "      <td>8.1198</td>\n",
       "      <td>-1.4961</td>\n",
       "      <td>-1.4961</td>\n",
       "      <td>-1.4961</td>\n",
       "      <td>-1.4996</td>\n",
       "      <td>-1.4996</td>\n",
       "      <td>-1.4996</td>\n",
       "      <td>1</td>\n",
       "    </tr>\n",
       "    <tr>\n",
       "      <th>1</th>\n",
       "      <td>2.913200e-06</td>\n",
       "      <td>-5.247700e-06</td>\n",
       "      <td>0.000003</td>\n",
       "      <td>-0.000006</td>\n",
       "      <td>2.778900e-06</td>\n",
       "      <td>-0.000004</td>\n",
       "      <td>0.030804</td>\n",
       "      <td>0.030810</td>\n",
       "      <td>0.030806</td>\n",
       "      <td>-0.033520</td>\n",
       "      <td>...</td>\n",
       "      <td>-0.59314</td>\n",
       "      <td>7.6252</td>\n",
       "      <td>6.1690</td>\n",
       "      <td>-1.4967</td>\n",
       "      <td>-1.4967</td>\n",
       "      <td>-1.4967</td>\n",
       "      <td>-1.5005</td>\n",
       "      <td>-1.5005</td>\n",
       "      <td>-1.5005</td>\n",
       "      <td>1</td>\n",
       "    </tr>\n",
       "    <tr>\n",
       "      <th>2</th>\n",
       "      <td>-2.951700e-06</td>\n",
       "      <td>-3.184000e-06</td>\n",
       "      <td>-0.000016</td>\n",
       "      <td>-0.000001</td>\n",
       "      <td>-1.575300e-06</td>\n",
       "      <td>0.000017</td>\n",
       "      <td>0.032877</td>\n",
       "      <td>0.032880</td>\n",
       "      <td>0.032896</td>\n",
       "      <td>-0.029834</td>\n",
       "      <td>...</td>\n",
       "      <td>-0.63252</td>\n",
       "      <td>2.7784</td>\n",
       "      <td>5.3017</td>\n",
       "      <td>-1.4983</td>\n",
       "      <td>-1.4983</td>\n",
       "      <td>-1.4982</td>\n",
       "      <td>-1.4985</td>\n",
       "      <td>-1.4985</td>\n",
       "      <td>-1.4985</td>\n",
       "      <td>1</td>\n",
       "    </tr>\n",
       "    <tr>\n",
       "      <th>3</th>\n",
       "      <td>-1.322600e-06</td>\n",
       "      <td>8.820100e-06</td>\n",
       "      <td>-0.000016</td>\n",
       "      <td>-0.000005</td>\n",
       "      <td>-7.282900e-07</td>\n",
       "      <td>0.000004</td>\n",
       "      <td>0.029410</td>\n",
       "      <td>0.029401</td>\n",
       "      <td>0.029417</td>\n",
       "      <td>-0.030156</td>\n",
       "      <td>...</td>\n",
       "      <td>-0.62289</td>\n",
       "      <td>6.5534</td>\n",
       "      <td>6.2606</td>\n",
       "      <td>-1.4963</td>\n",
       "      <td>-1.4963</td>\n",
       "      <td>-1.4963</td>\n",
       "      <td>-1.4975</td>\n",
       "      <td>-1.4975</td>\n",
       "      <td>-1.4976</td>\n",
       "      <td>1</td>\n",
       "    </tr>\n",
       "    <tr>\n",
       "      <th>4</th>\n",
       "      <td>-6.836600e-08</td>\n",
       "      <td>5.666300e-07</td>\n",
       "      <td>-0.000026</td>\n",
       "      <td>-0.000006</td>\n",
       "      <td>-7.940600e-07</td>\n",
       "      <td>0.000013</td>\n",
       "      <td>0.030119</td>\n",
       "      <td>0.030119</td>\n",
       "      <td>0.030145</td>\n",
       "      <td>-0.031393</td>\n",
       "      <td>...</td>\n",
       "      <td>-0.63010</td>\n",
       "      <td>4.5155</td>\n",
       "      <td>9.5231</td>\n",
       "      <td>-1.4958</td>\n",
       "      <td>-1.4958</td>\n",
       "      <td>-1.4958</td>\n",
       "      <td>-1.4959</td>\n",
       "      <td>-1.4959</td>\n",
       "      <td>-1.4959</td>\n",
       "      <td>1</td>\n",
       "    </tr>\n",
       "  </tbody>\n",
       "</table>\n",
       "<p>5 rows × 49 columns</p>\n",
       "</div>"
      ],
      "text/plain": [
       "             F1            F2        F3        F4            F5        F6  \\\n",
       "0 -3.014600e-07  8.260300e-06 -0.000012 -0.000002 -1.438600e-06 -0.000021   \n",
       "1  2.913200e-06 -5.247700e-06  0.000003 -0.000006  2.778900e-06 -0.000004   \n",
       "2 -2.951700e-06 -3.184000e-06 -0.000016 -0.000001 -1.575300e-06  0.000017   \n",
       "3 -1.322600e-06  8.820100e-06 -0.000016 -0.000005 -7.282900e-07  0.000004   \n",
       "4 -6.836600e-08  5.666300e-07 -0.000026 -0.000006 -7.940600e-07  0.000013   \n",
       "\n",
       "         F7        F8        F9       F10  ...      F40     F41     F42  \\\n",
       "0  0.031718  0.031710  0.031721 -0.032963  ... -0.63308  2.9646  8.1198   \n",
       "1  0.030804  0.030810  0.030806 -0.033520  ... -0.59314  7.6252  6.1690   \n",
       "2  0.032877  0.032880  0.032896 -0.029834  ... -0.63252  2.7784  5.3017   \n",
       "3  0.029410  0.029401  0.029417 -0.030156  ... -0.62289  6.5534  6.2606   \n",
       "4  0.030119  0.030119  0.030145 -0.031393  ... -0.63010  4.5155  9.5231   \n",
       "\n",
       "      F43     F44     F45     F46     F47     F48  TARGET  \n",
       "0 -1.4961 -1.4961 -1.4961 -1.4996 -1.4996 -1.4996       1  \n",
       "1 -1.4967 -1.4967 -1.4967 -1.5005 -1.5005 -1.5005       1  \n",
       "2 -1.4983 -1.4983 -1.4982 -1.4985 -1.4985 -1.4985       1  \n",
       "3 -1.4963 -1.4963 -1.4963 -1.4975 -1.4975 -1.4976       1  \n",
       "4 -1.4958 -1.4958 -1.4958 -1.4959 -1.4959 -1.4959       1  \n",
       "\n",
       "[5 rows x 49 columns]"
      ]
     },
     "execution_count": 3,
     "metadata": {},
     "output_type": "execute_result"
    }
   ],
   "source": [
    "data = pd.read_csv('./DATA/sensorless_data.csv')\n",
    "data.head()"
   ]
  },
  {
   "cell_type": "markdown",
   "id": "b10f25fd-38d9-4552-9827-f11747199fc2",
   "metadata": {},
   "source": [
    "### Format input data"
   ]
  },
  {
   "cell_type": "code",
   "execution_count": 4,
   "id": "a6cbc4cd-9a0a-49d0-ae4d-2bf85f50b5b7",
   "metadata": {},
   "outputs": [
    {
     "data": {
      "text/html": [
       "<div>\n",
       "<style scoped>\n",
       "    .dataframe tbody tr th:only-of-type {\n",
       "        vertical-align: middle;\n",
       "    }\n",
       "\n",
       "    .dataframe tbody tr th {\n",
       "        vertical-align: top;\n",
       "    }\n",
       "\n",
       "    .dataframe thead th {\n",
       "        text-align: right;\n",
       "    }\n",
       "</style>\n",
       "<table border=\"1\" class=\"dataframe\">\n",
       "  <thead>\n",
       "    <tr style=\"text-align: right;\">\n",
       "      <th></th>\n",
       "      <th>F1</th>\n",
       "      <th>F2</th>\n",
       "      <th>F3</th>\n",
       "      <th>F4</th>\n",
       "      <th>F5</th>\n",
       "      <th>F6</th>\n",
       "      <th>F7</th>\n",
       "      <th>F8</th>\n",
       "      <th>F9</th>\n",
       "      <th>F10</th>\n",
       "      <th>...</th>\n",
       "      <th>F40</th>\n",
       "      <th>F41</th>\n",
       "      <th>F42</th>\n",
       "      <th>F43</th>\n",
       "      <th>F44</th>\n",
       "      <th>F45</th>\n",
       "      <th>F46</th>\n",
       "      <th>F47</th>\n",
       "      <th>F48</th>\n",
       "      <th>F49</th>\n",
       "    </tr>\n",
       "  </thead>\n",
       "  <tbody>\n",
       "    <tr>\n",
       "      <th>0</th>\n",
       "      <td>-3.014600e-07</td>\n",
       "      <td>8.260300e-06</td>\n",
       "      <td>-0.000012</td>\n",
       "      <td>-0.000002</td>\n",
       "      <td>-1.438600e-06</td>\n",
       "      <td>-0.000021</td>\n",
       "      <td>0.031718</td>\n",
       "      <td>0.031710</td>\n",
       "      <td>0.031721</td>\n",
       "      <td>-0.032963</td>\n",
       "      <td>...</td>\n",
       "      <td>-0.63308</td>\n",
       "      <td>2.9646</td>\n",
       "      <td>8.1198</td>\n",
       "      <td>-1.4961</td>\n",
       "      <td>-1.4961</td>\n",
       "      <td>-1.4961</td>\n",
       "      <td>-1.4996</td>\n",
       "      <td>-1.4996</td>\n",
       "      <td>-1.4996</td>\n",
       "      <td>0</td>\n",
       "    </tr>\n",
       "    <tr>\n",
       "      <th>1</th>\n",
       "      <td>2.913200e-06</td>\n",
       "      <td>-5.247700e-06</td>\n",
       "      <td>0.000003</td>\n",
       "      <td>-0.000006</td>\n",
       "      <td>2.778900e-06</td>\n",
       "      <td>-0.000004</td>\n",
       "      <td>0.030804</td>\n",
       "      <td>0.030810</td>\n",
       "      <td>0.030806</td>\n",
       "      <td>-0.033520</td>\n",
       "      <td>...</td>\n",
       "      <td>-0.59314</td>\n",
       "      <td>7.6252</td>\n",
       "      <td>6.1690</td>\n",
       "      <td>-1.4967</td>\n",
       "      <td>-1.4967</td>\n",
       "      <td>-1.4967</td>\n",
       "      <td>-1.5005</td>\n",
       "      <td>-1.5005</td>\n",
       "      <td>-1.5005</td>\n",
       "      <td>0</td>\n",
       "    </tr>\n",
       "    <tr>\n",
       "      <th>2</th>\n",
       "      <td>-2.951700e-06</td>\n",
       "      <td>-3.184000e-06</td>\n",
       "      <td>-0.000016</td>\n",
       "      <td>-0.000001</td>\n",
       "      <td>-1.575300e-06</td>\n",
       "      <td>0.000017</td>\n",
       "      <td>0.032877</td>\n",
       "      <td>0.032880</td>\n",
       "      <td>0.032896</td>\n",
       "      <td>-0.029834</td>\n",
       "      <td>...</td>\n",
       "      <td>-0.63252</td>\n",
       "      <td>2.7784</td>\n",
       "      <td>5.3017</td>\n",
       "      <td>-1.4983</td>\n",
       "      <td>-1.4983</td>\n",
       "      <td>-1.4982</td>\n",
       "      <td>-1.4985</td>\n",
       "      <td>-1.4985</td>\n",
       "      <td>-1.4985</td>\n",
       "      <td>0</td>\n",
       "    </tr>\n",
       "    <tr>\n",
       "      <th>3</th>\n",
       "      <td>-1.322600e-06</td>\n",
       "      <td>8.820100e-06</td>\n",
       "      <td>-0.000016</td>\n",
       "      <td>-0.000005</td>\n",
       "      <td>-7.282900e-07</td>\n",
       "      <td>0.000004</td>\n",
       "      <td>0.029410</td>\n",
       "      <td>0.029401</td>\n",
       "      <td>0.029417</td>\n",
       "      <td>-0.030156</td>\n",
       "      <td>...</td>\n",
       "      <td>-0.62289</td>\n",
       "      <td>6.5534</td>\n",
       "      <td>6.2606</td>\n",
       "      <td>-1.4963</td>\n",
       "      <td>-1.4963</td>\n",
       "      <td>-1.4963</td>\n",
       "      <td>-1.4975</td>\n",
       "      <td>-1.4975</td>\n",
       "      <td>-1.4976</td>\n",
       "      <td>0</td>\n",
       "    </tr>\n",
       "    <tr>\n",
       "      <th>4</th>\n",
       "      <td>-6.836600e-08</td>\n",
       "      <td>5.666300e-07</td>\n",
       "      <td>-0.000026</td>\n",
       "      <td>-0.000006</td>\n",
       "      <td>-7.940600e-07</td>\n",
       "      <td>0.000013</td>\n",
       "      <td>0.030119</td>\n",
       "      <td>0.030119</td>\n",
       "      <td>0.030145</td>\n",
       "      <td>-0.031393</td>\n",
       "      <td>...</td>\n",
       "      <td>-0.63010</td>\n",
       "      <td>4.5155</td>\n",
       "      <td>9.5231</td>\n",
       "      <td>-1.4958</td>\n",
       "      <td>-1.4958</td>\n",
       "      <td>-1.4958</td>\n",
       "      <td>-1.4959</td>\n",
       "      <td>-1.4959</td>\n",
       "      <td>-1.4959</td>\n",
       "      <td>0</td>\n",
       "    </tr>\n",
       "  </tbody>\n",
       "</table>\n",
       "<p>5 rows × 49 columns</p>\n",
       "</div>"
      ],
      "text/plain": [
       "             F1            F2        F3        F4            F5        F6  \\\n",
       "0 -3.014600e-07  8.260300e-06 -0.000012 -0.000002 -1.438600e-06 -0.000021   \n",
       "1  2.913200e-06 -5.247700e-06  0.000003 -0.000006  2.778900e-06 -0.000004   \n",
       "2 -2.951700e-06 -3.184000e-06 -0.000016 -0.000001 -1.575300e-06  0.000017   \n",
       "3 -1.322600e-06  8.820100e-06 -0.000016 -0.000005 -7.282900e-07  0.000004   \n",
       "4 -6.836600e-08  5.666300e-07 -0.000026 -0.000006 -7.940600e-07  0.000013   \n",
       "\n",
       "         F7        F8        F9       F10  ...      F40     F41     F42  \\\n",
       "0  0.031718  0.031710  0.031721 -0.032963  ... -0.63308  2.9646  8.1198   \n",
       "1  0.030804  0.030810  0.030806 -0.033520  ... -0.59314  7.6252  6.1690   \n",
       "2  0.032877  0.032880  0.032896 -0.029834  ... -0.63252  2.7784  5.3017   \n",
       "3  0.029410  0.029401  0.029417 -0.030156  ... -0.62289  6.5534  6.2606   \n",
       "4  0.030119  0.030119  0.030145 -0.031393  ... -0.63010  4.5155  9.5231   \n",
       "\n",
       "      F43     F44     F45     F46     F47     F48  F49  \n",
       "0 -1.4961 -1.4961 -1.4961 -1.4996 -1.4996 -1.4996    0  \n",
       "1 -1.4967 -1.4967 -1.4967 -1.5005 -1.5005 -1.5005    0  \n",
       "2 -1.4983 -1.4983 -1.4982 -1.4985 -1.4985 -1.4985    0  \n",
       "3 -1.4963 -1.4963 -1.4963 -1.4975 -1.4975 -1.4976    0  \n",
       "4 -1.4958 -1.4958 -1.4958 -1.4959 -1.4959 -1.4959    0  \n",
       "\n",
       "[5 rows x 49 columns]"
      ]
     },
     "execution_count": 4,
     "metadata": {},
     "output_type": "execute_result"
    }
   ],
   "source": [
    "x_cols = list(data.columns[:-1])\n",
    "X_data = data[x_cols].copy()\n",
    "# Adding 0 for easy reshaping\n",
    "X_data['F49'] = 0\n",
    "X_data.head()"
   ]
  },
  {
   "cell_type": "code",
   "execution_count": 5,
   "id": "2ff3f43b-93af-42f0-b9cb-414bc646cc85",
   "metadata": {},
   "outputs": [
    {
     "data": {
      "text/plain": [
       "58509"
      ]
     },
     "execution_count": 5,
     "metadata": {},
     "output_type": "execute_result"
    }
   ],
   "source": [
    "len(X_data)"
   ]
  },
  {
   "cell_type": "code",
   "execution_count": 6,
   "id": "3aa4f20a-db6f-4f87-886f-5547fe548e5b",
   "metadata": {},
   "outputs": [
    {
     "data": {
      "text/plain": [
       "(58509, 7, 7, 1)"
      ]
     },
     "execution_count": 6,
     "metadata": {},
     "output_type": "execute_result"
    }
   ],
   "source": [
    "X = X_data.to_numpy().reshape((len(X_data),7,7,1))\n",
    "X.shape"
   ]
  },
  {
   "cell_type": "code",
   "execution_count": 7,
   "id": "ab4b9238-6438-41b8-b24f-3c997ea2738a",
   "metadata": {},
   "outputs": [
    {
     "data": {
      "text/plain": [
       "(7, 7, 1)"
      ]
     },
     "execution_count": 7,
     "metadata": {},
     "output_type": "execute_result"
    }
   ],
   "source": [
    "X[0].shape"
   ]
  },
  {
   "cell_type": "code",
   "execution_count": 8,
   "id": "45d8d4da-88a4-4b26-8327-c67a01c80efb",
   "metadata": {},
   "outputs": [],
   "source": [
    "data['TARGET'] = data['TARGET'] - 1\n",
    "y = data['TARGET'].to_numpy()"
   ]
  },
  {
   "cell_type": "code",
   "execution_count": 9,
   "id": "14a91710-09eb-41b1-a197-226e97bee14a",
   "metadata": {},
   "outputs": [],
   "source": [
    "y = to_categorical(y, num_classes=data['TARGET'].nunique())"
   ]
  },
  {
   "cell_type": "markdown",
   "id": "228dd711-e159-4d80-9755-b7bbfaccfdc3",
   "metadata": {},
   "source": [
    "### Randomizing dataset"
   ]
  },
  {
   "cell_type": "code",
   "execution_count": 10,
   "id": "bf05ba2b-8019-4f41-8e5d-c4a7e8c0ff94",
   "metadata": {},
   "outputs": [],
   "source": [
    "idxs = np.arange(len(X))\n",
    "samples = np.random.choice(idxs,size=10000)\n",
    "\n",
    "X_rand = X[samples]\n",
    "y_rand = y[samples]"
   ]
  },
  {
   "cell_type": "markdown",
   "id": "1e42a8c0-a57d-431d-87da-29659c01e4eb",
   "metadata": {},
   "source": [
    "### CNN Model"
   ]
  },
  {
   "cell_type": "code",
   "execution_count": 11,
   "id": "d69ef0b9-0fbb-4b7a-a57a-5699063d0472",
   "metadata": {},
   "outputs": [],
   "source": [
    "model = keras.models.Sequential([\n",
    "    keras.layers.Conv2D(256, (2,2), strides=1, activation='relu', input_shape=(7,7,1)),\n",
    "    keras.layers.MaxPooling2D(pool_size=(2, 2), strides=2),\n",
    "    keras.layers.Conv2D(256, (2,2), strides=1, activation='relu'),\n",
    "    keras.layers.MaxPooling2D(pool_size=(2, 2), strides=2),\n",
    "    keras.layers.Flatten(),\n",
    "    keras.layers.Dense(512, activation='relu'),\n",
    "    keras.layers.Dense(11, activation='softmax')\n",
    "])"
   ]
  },
  {
   "cell_type": "code",
   "execution_count": 12,
   "id": "625da174-e240-4ea5-91c7-b2b048aa8e45",
   "metadata": {},
   "outputs": [
    {
     "name": "stdout",
     "output_type": "stream",
     "text": [
      "Model: \"sequential\"\n",
      "_________________________________________________________________\n",
      "Layer (type)                 Output Shape              Param #   \n",
      "=================================================================\n",
      "conv2d (Conv2D)              (None, 6, 6, 256)         1280      \n",
      "_________________________________________________________________\n",
      "max_pooling2d (MaxPooling2D) (None, 3, 3, 256)         0         \n",
      "_________________________________________________________________\n",
      "conv2d_1 (Conv2D)            (None, 2, 2, 256)         262400    \n",
      "_________________________________________________________________\n",
      "max_pooling2d_1 (MaxPooling2 (None, 1, 1, 256)         0         \n",
      "_________________________________________________________________\n",
      "flatten (Flatten)            (None, 256)               0         \n",
      "_________________________________________________________________\n",
      "dense (Dense)                (None, 512)               131584    \n",
      "_________________________________________________________________\n",
      "dense_1 (Dense)              (None, 11)                5643      \n",
      "=================================================================\n",
      "Total params: 400,907\n",
      "Trainable params: 400,907\n",
      "Non-trainable params: 0\n",
      "_________________________________________________________________\n"
     ]
    }
   ],
   "source": [
    "model.summary()"
   ]
  },
  {
   "cell_type": "code",
   "execution_count": 13,
   "id": "a2671535-996b-479f-aaf7-95260e18a570",
   "metadata": {},
   "outputs": [
    {
     "data": {
      "text/plain": [
       "(11,)"
      ]
     },
     "execution_count": 13,
     "metadata": {},
     "output_type": "execute_result"
    }
   ],
   "source": [
    "y_rand[:25000][0].shape"
   ]
  },
  {
   "cell_type": "code",
   "execution_count": 14,
   "id": "90c1831d-46d5-4614-918a-f171fbd89b3b",
   "metadata": {},
   "outputs": [
    {
     "name": "stdout",
     "output_type": "stream",
     "text": [
      "Epoch 1/10\n",
      "100/100 [==============================] - 1s 12ms/step - loss: 2.4109 - accuracy: 0.1250\n",
      "Epoch 2/10\n",
      "100/100 [==============================] - 1s 11ms/step - loss: 1.7962 - accuracy: 0.3457\n",
      "Epoch 3/10\n",
      "100/100 [==============================] - 1s 11ms/step - loss: 1.2490 - accuracy: 0.4975\n",
      "Epoch 4/10\n",
      "100/100 [==============================] - 1s 10ms/step - loss: 1.1245 - accuracy: 0.5287\n",
      "Epoch 5/10\n",
      "100/100 [==============================] - 1s 11ms/step - loss: 0.9581 - accuracy: 0.6174\n",
      "Epoch 6/10\n",
      "100/100 [==============================] - 1s 11ms/step - loss: 0.8185 - accuracy: 0.6642\n",
      "Epoch 7/10\n",
      "100/100 [==============================] - 1s 14ms/step - loss: 0.7133 - accuracy: 0.6966\n",
      "Epoch 8/10\n",
      "100/100 [==============================] - 2s 16ms/step - loss: 0.6550 - accuracy: 0.7286\n",
      "Epoch 9/10\n",
      "100/100 [==============================] - 2s 18ms/step - loss: 0.6090 - accuracy: 0.7494\n",
      "Epoch 10/10\n",
      "100/100 [==============================] - 1s 12ms/step - loss: 0.5807 - accuracy: 0.7598\n"
     ]
    }
   ],
   "source": [
    "model.compile(optimizer = 'adam', loss = 'categorical_crossentropy', metrics = ['accuracy'])\n",
    "history = model.fit(X_rand , y_rand, steps_per_epoch=100, epochs = 10)"
   ]
  },
  {
   "cell_type": "code",
   "execution_count": 15,
   "id": "9d0c2977-08a8-4e30-a377-6422fd923685",
   "metadata": {},
   "outputs": [
    {
     "data": {
      "text/plain": [
       "0.7598000168800354"
      ]
     },
     "execution_count": 15,
     "metadata": {},
     "output_type": "execute_result"
    }
   ],
   "source": [
    "history.history['accuracy'][-1]"
   ]
  },
  {
   "cell_type": "markdown",
   "id": "c7eeaf8c-aee5-4219-b9d9-7fbca5464979",
   "metadata": {},
   "source": [
    "### Running Experiment"
   ]
  },
  {
   "cell_type": "code",
   "execution_count": 37,
   "id": "96d1d132-dbf9-4155-ab9a-2afe5a6edf9c",
   "metadata": {},
   "outputs": [],
   "source": [
    "all_fold_idxs = np.random.choice(idxs, size=len(idxs), replace=False)\n",
    "\n",
    "nfolds = 3\n",
    "fold_size = int(len(all_fold_idxs)/3)\n",
    "folds = [all_fold_idxs[i:i+fold_size] for i in range(0, len(all_fold_idxs), fold_size)]"
   ]
  },
  {
   "cell_type": "code",
   "execution_count": 38,
   "metadata": {},
   "outputs": [
    {
     "data": {
      "text/plain": [
       "19503.0"
      ]
     },
     "execution_count": 38,
     "metadata": {},
     "output_type": "execute_result"
    }
   ],
   "source": [
    "len(all_fold_idxs)/3"
   ]
  },
  {
   "cell_type": "code",
   "execution_count": 39,
   "metadata": {},
   "outputs": [
    {
     "data": {
      "text/plain": [
       "58509"
      ]
     },
     "execution_count": 39,
     "metadata": {},
     "output_type": "execute_result"
    }
   ],
   "source": [
    "len(set(all_fold_idxs))"
   ]
  },
  {
   "cell_type": "code",
   "execution_count": 40,
   "id": "b7f15e9e-9979-4e37-ad90-a8b3137a54a9",
   "metadata": {},
   "outputs": [],
   "source": [
    "import pickle\n",
    "\n",
    "data_dct = {}\n",
    "data_dct['X'] = X\n",
    "data_dct['y'] = y\n",
    "data_dct['folds'] = folds\n",
    "\n",
    "with open('data_dct.pkl','wb') as f:\n",
    "    pickle.dump(data_dct,f)"
   ]
  },
  {
   "cell_type": "code",
   "execution_count": 41,
   "id": "9917ec27-ea7b-48a3-a407-9f67725006c5",
   "metadata": {},
   "outputs": [
    {
     "name": "stdout",
     "output_type": "stream",
     "text": [
      "Running on fold 1\n",
      "Epoch 1/10\n",
      "100/100 [==============================] - 11s 112ms/step - loss: 2.2751 - categorical_accuracy: 0.1835\n",
      "Epoch 2/10\n",
      "100/100 [==============================] - 10s 105ms/step - loss: 1.3020 - categorical_accuracy: 0.4878\n",
      "Epoch 3/10\n",
      "100/100 [==============================] - 11s 106ms/step - loss: 0.9533 - categorical_accuracy: 0.6257\n",
      "Epoch 4/10\n",
      "100/100 [==============================] - 11s 105ms/step - loss: 0.7252 - categorical_accuracy: 0.7017\n",
      "Epoch 5/10\n",
      "100/100 [==============================] - 11s 106ms/step - loss: 0.6159 - categorical_accuracy: 0.7528\n",
      "Epoch 6/10\n",
      "100/100 [==============================] - 10s 105ms/step - loss: 0.5392 - categorical_accuracy: 0.7774\n",
      "Epoch 7/10\n",
      "100/100 [==============================] - 11s 106ms/step - loss: 0.4724 - categorical_accuracy: 0.8023\n",
      "Epoch 8/10\n",
      "100/100 [==============================] - 5s 52ms/step - loss: 0.4657 - categorical_accuracy: 0.8018\n",
      "Epoch 9/10\n",
      "100/100 [==============================] - 5s 47ms/step - loss: 0.4589 - categorical_accuracy: 0.8124\n",
      "Epoch 10/10\n",
      "100/100 [==============================] - 4s 45ms/step - loss: 0.4103 - categorical_accuracy: 0.8328\n",
      "INFO:tensorflow:Assets written to: CNN_models/model_fold_1\\assets\n",
      "Running on fold 2\n",
      "Epoch 1/10\n",
      "100/100 [==============================] - 5s 49ms/step - loss: 2.2777 - categorical_accuracy: 0.1908\n",
      "Epoch 2/10\n",
      "100/100 [==============================] - 5s 48ms/step - loss: 1.3276 - categorical_accuracy: 0.4765\n",
      "Epoch 3/10\n",
      "100/100 [==============================] - 5s 47ms/step - loss: 1.0154 - categorical_accuracy: 0.5970\n",
      "Epoch 4/10\n",
      "100/100 [==============================] - 5s 48ms/step - loss: 0.7699 - categorical_accuracy: 0.6912\n",
      "Epoch 5/10\n",
      "100/100 [==============================] - 5s 46ms/step - loss: 0.6524 - categorical_accuracy: 0.7307\n",
      "Epoch 6/10\n",
      "100/100 [==============================] - 5s 48ms/step - loss: 0.5766 - categorical_accuracy: 0.7664\n",
      "Epoch 7/10\n",
      "100/100 [==============================] - 5s 46ms/step - loss: 0.5167 - categorical_accuracy: 0.7856\n",
      "Epoch 8/10\n",
      "100/100 [==============================] - 5s 47ms/step - loss: 0.4705 - categorical_accuracy: 0.8014\n",
      "Epoch 9/10\n",
      "100/100 [==============================] - 5s 47ms/step - loss: 0.4396 - categorical_accuracy: 0.8095\n",
      "Epoch 10/10\n",
      "100/100 [==============================] - 5s 49ms/step - loss: 0.4178 - categorical_accuracy: 0.8227\n",
      "INFO:tensorflow:Assets written to: CNN_models/model_fold_2\\assets\n",
      "Running on fold 3\n",
      "Epoch 1/10\n",
      "100/100 [==============================] - 5s 52ms/step - loss: 2.2732 - categorical_accuracy: 0.1831\n",
      "Epoch 2/10\n",
      "100/100 [==============================] - 5s 49ms/step - loss: 1.3599 - categorical_accuracy: 0.4588\n",
      "Epoch 3/10\n",
      "100/100 [==============================] - 5s 50ms/step - loss: 1.1010 - categorical_accuracy: 0.5441\n",
      "Epoch 4/10\n",
      "100/100 [==============================] - 5s 48ms/step - loss: 0.9819 - categorical_accuracy: 0.6179\n",
      "Epoch 5/10\n",
      "100/100 [==============================] - 5s 47ms/step - loss: 0.8233 - categorical_accuracy: 0.6771\n",
      "Epoch 6/10\n",
      "100/100 [==============================] - 5s 46ms/step - loss: 0.6939 - categorical_accuracy: 0.7213\n",
      "Epoch 7/10\n",
      "100/100 [==============================] - 5s 47ms/step - loss: 0.6123 - categorical_accuracy: 0.7527\n",
      "Epoch 8/10\n",
      "100/100 [==============================] - 5s 46ms/step - loss: 0.5564 - categorical_accuracy: 0.7708\n",
      "Epoch 9/10\n",
      "100/100 [==============================] - 5s 46ms/step - loss: 0.5041 - categorical_accuracy: 0.7902\n",
      "Epoch 10/10\n",
      "100/100 [==============================] - 5s 47ms/step - loss: 0.4677 - categorical_accuracy: 0.8053\n",
      "INFO:tensorflow:Assets written to: CNN_models/model_fold_3\\assets\n"
     ]
    }
   ],
   "source": [
    "train_losses = []\n",
    "train_accuracies = []\n",
    "test_losses = []\n",
    "test_accuracies = []\n",
    "for fold_idx in range(nfolds):\n",
    "    print(\"Running on fold \" + str(fold_idx+1))\n",
    "    X_test = X[folds[fold_idx]]\n",
    "    y_test = y[folds[fold_idx]]\n",
    "    \n",
    "    train_fold_idxs = [i for i in range(nfolds) if i != fold_idx]\n",
    "    train_idxs = np.concatenate([list(folds[idx]) for idx in train_fold_idxs])\n",
    "    X_train = X[train_idxs]\n",
    "    y_train = y[train_idxs]\n",
    "    \n",
    "    model = keras.models.Sequential([\n",
    "        keras.layers.Conv2D(256, (2,2), strides=1, activation='relu', input_shape=(7,7,1)),\n",
    "        keras.layers.MaxPooling2D(pool_size=(2, 2), strides=2),\n",
    "        keras.layers.Conv2D(256, (2,2), strides=1, activation='relu'),\n",
    "        keras.layers.MaxPooling2D(pool_size=(2, 2), strides=2),\n",
    "        keras.layers.Flatten(),\n",
    "        keras.layers.Dense(512, activation='relu'),\n",
    "        keras.layers.Dense(11, activation='softmax')\n",
    "    ])\n",
    "    \n",
    "    model.compile(optimizer = 'adam', loss = 'categorical_crossentropy', metrics = ['categorical_accuracy'])\n",
    "    history = model.fit(X_train , y_train, steps_per_epoch=100, epochs = 10)\n",
    "    \n",
    "    train_loss = history.history['loss'][-1]\n",
    "    train_accuracy = history.history['categorical_accuracy'][-1]\n",
    "\n",
    "    test_preds = model.predict(X_test)\n",
    "\n",
    "    loss_calc = keras.metrics.CategoricalCrossentropy()\n",
    "    loss_calc.reset_states()\n",
    "    loss_calc.update_state(y_test, test_preds)\n",
    "    test_loss = loss_calc.result().numpy()\n",
    "\n",
    "    acc_calc = keras.metrics.CategoricalAccuracy()\n",
    "    acc_calc.reset_states()\n",
    "    acc_calc.update_state(y_test, test_preds)\n",
    "    test_accuracy = acc_calc.result().numpy()\n",
    "\n",
    "    train_losses.append(train_loss)\n",
    "    train_accuracies.append(train_accuracy)\n",
    "    test_losses.append(test_loss)\n",
    "    test_accuracies.append(test_accuracy)\n",
    "\n",
    "    # save model\n",
    "    model.save('CNN_models/model_fold_' + str(fold_idx+1))\n"
   ]
  },
  {
   "cell_type": "code",
   "execution_count": 42,
   "metadata": {},
   "outputs": [
    {
     "data": {
      "text/plain": [
       "[0.8326924, 0.81792545, 0.8150541]"
      ]
     },
     "execution_count": 42,
     "metadata": {},
     "output_type": "execute_result"
    }
   ],
   "source": [
    "test_accuracies"
   ]
  },
  {
   "cell_type": "code",
   "execution_count": 43,
   "id": "ba5380c9-1760-4251-a901-f18c3669d300",
   "metadata": {},
   "outputs": [
    {
     "data": {
      "text/plain": [
       "0.82189065"
      ]
     },
     "execution_count": 43,
     "metadata": {},
     "output_type": "execute_result"
    }
   ],
   "source": [
    "np.mean(test_accuracies)"
   ]
  },
  {
   "cell_type": "code",
   "execution_count": null,
   "id": "2b7a2108-ff95-44af-bd7f-3d93ebcb273c",
   "metadata": {},
   "outputs": [],
   "source": []
  }
 ],
 "metadata": {
  "interpreter": {
   "hash": "456d2a7118d35350561e2a2cece57887a28d81f04d055278ed4a029d882f7171"
  },
  "kernelspec": {
   "display_name": "Python 3.8.8 64-bit ('base': conda)",
   "name": "python3"
  },
  "language_info": {
   "codemirror_mode": {
    "name": "ipython",
    "version": 3
   },
   "file_extension": ".py",
   "mimetype": "text/x-python",
   "name": "python",
   "nbconvert_exporter": "python",
   "pygments_lexer": "ipython3",
   "version": "3.8.8"
  }
 },
 "nbformat": 4,
 "nbformat_minor": 5
}
