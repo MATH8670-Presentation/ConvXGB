{
 "cells": [
  {
   "cell_type": "markdown",
   "id": "85dca4e3-8f0b-4d84-988b-13f2c40cd107",
   "metadata": {},
   "source": [
    "# ConvXGB Lecture Notes\n",
    "\n",
    "Jeremy James and Julien Adeleke\n",
    "\n",
    "10/07/2021"
   ]
  },
  {
   "cell_type": "markdown",
   "id": "5be82361-4bda-4977-8dd7-8d76ec25b91c",
   "metadata": {},
   "source": [
    "## Introduction\n",
    "    - Article\n",
    "        - Title: “ConvXGB: A new deep learning model for classification problems based on CNN and XGBoost”\n",
    "        - Authors: Setthanun Thongsuwan, Saichon Jaiyen, Anantachai Padcharoen, Praveen Agarwal\n",
    "        - Journal: Nuclear Engineering and Technology, Volume 53, Issue 2, February 2021, Pages 522-531\n",
    "        - Link: https://doi.org/10.1016/j.net.2020.04.008\n",
    "    - Model and problem type\n",
    "        - Supervised learning\n",
    "        - Classification problems\n",
    "        - “Learning” the correct class label\n",
    "        - All types of data, including image, text, medical, etc.\n",
    "    - Current state of ML \n",
    "        - Mass info = hard to discover key features\n",
    "        - Manual feature engineering vs automated\n",
    "        - Effective models + automated feature engineering\n",
    "        - Different models have different strengths, therefore one model is not enough\n",
    "    - What ConvXGB provides\n",
    "        - Combination of CNN and XGBoost\n",
    "        - Architecture\n",
    "            - Convolution layers\n",
    "            - XGBoost as prediction layer\n",
    "        - Results\n",
    "            - Applicable to a diverse set of datasets\n",
    "            - Higher accuracy than CNN/XGBoost alone\n",
    "            - Faster than CNN alone"
   ]
  },
  {
   "cell_type": "code",
   "execution_count": null,
   "id": "722f2d35-8b75-464d-9129-724a63073165",
   "metadata": {},
   "outputs": [],
   "source": []
  }
 ],
 "metadata": {
  "kernelspec": {
   "display_name": "Python 3",
   "language": "python",
   "name": "python3"
  },
  "language_info": {
   "codemirror_mode": {
    "name": "ipython",
    "version": 3
   },
   "file_extension": ".py",
   "mimetype": "text/x-python",
   "name": "python",
   "nbconvert_exporter": "python",
   "pygments_lexer": "ipython3",
   "version": "3.8.8"
  }
 },
 "nbformat": 4,
 "nbformat_minor": 5
}
