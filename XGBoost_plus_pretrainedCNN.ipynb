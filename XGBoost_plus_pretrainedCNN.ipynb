{
 "cells": [
  {
   "cell_type": "code",
   "execution_count": 1,
   "metadata": {},
   "outputs": [],
   "source": [
    "import keras\n",
    "import xgboost\n",
    "from sklearn.metrics import accuracy_score\n",
    "\n",
    "import pickle\n",
    "\n",
    "import pandas as pd\n",
    "import numpy as np"
   ]
  },
  {
   "cell_type": "code",
   "execution_count": 2,
   "metadata": {},
   "outputs": [
    {
     "data": {
      "text/plain": [
       "dict_keys(['X', 'y', 'folds'])"
      ]
     },
     "execution_count": 2,
     "metadata": {},
     "output_type": "execute_result"
    }
   ],
   "source": [
    "with open('data_dct.pkl','rb') as f:\n",
    "    data_dct = pickle.load(f)\n",
    "data_dct.keys()"
   ]
  },
  {
   "cell_type": "code",
   "execution_count": 3,
   "metadata": {},
   "outputs": [],
   "source": [
    "X = data_dct['X']\n",
    "y = data_dct['y']\n",
    "folds = data_dct['folds']\n",
    "nfolds = len(folds)"
   ]
  },
  {
   "cell_type": "code",
   "execution_count": 4,
   "metadata": {},
   "outputs": [],
   "source": [
    "y_new = np.array([list(row).index(1) for row in y])"
   ]
  },
  {
   "cell_type": "markdown",
   "metadata": {},
   "source": [
    "## Conduct Experiment\n",
    "\n",
    "For each iteration, we are loading our previously trained CNN models from CNN_Model.ipynb and grabbing the outputs of the feature layer (Flatten layer). We then fit our xgboost model on this feature layer. "
   ]
  },
  {
   "cell_type": "code",
   "execution_count": 5,
   "metadata": {},
   "outputs": [
    {
     "name": "stdout",
     "output_type": "stream",
     "text": [
      "Running on fold 1\n",
      "[22:53:21] WARNING: C:/Users/Administrator/workspace/xgboost-win64_release_1.4.0/src/learner.cc:1095: Starting in XGBoost 1.3.0, the default evaluation metric used with the objective 'multi:softmax' was changed from 'merror' to 'mlogloss'. Explicitly set eval_metric if you'd like to restore the old behavior.\n",
      "Running on fold 2\n",
      "[22:55:13] WARNING: C:/Users/Administrator/workspace/xgboost-win64_release_1.4.0/src/learner.cc:1095: Starting in XGBoost 1.3.0, the default evaluation metric used with the objective 'multi:softmax' was changed from 'merror' to 'mlogloss'. Explicitly set eval_metric if you'd like to restore the old behavior.\n",
      "Running on fold 3\n",
      "[22:57:07] WARNING: C:/Users/Administrator/workspace/xgboost-win64_release_1.4.0/src/learner.cc:1095: Starting in XGBoost 1.3.0, the default evaluation metric used with the objective 'multi:softmax' was changed from 'merror' to 'mlogloss'. Explicitly set eval_metric if you'd like to restore the old behavior.\n"
     ]
    }
   ],
   "source": [
    "train_accuracies = []\n",
    "test_accuracies = []\n",
    "for fold_idx in range(nfolds):\n",
    "    print(\"Running on fold \" + str(fold_idx+1))\n",
    "    X_test = X[folds[fold_idx]]\n",
    "    y_test = y_new[folds[fold_idx]]\n",
    "\n",
    "    train_fold_idxs = [i for i in range(nfolds) if i != fold_idx]\n",
    "    train_idxs = np.concatenate([list(folds[idx]) for idx in train_fold_idxs])\n",
    "    X_train = X[train_idxs]\n",
    "    y_train = y_new[train_idxs]\n",
    "\n",
    "    trained_model = keras.models.load_model('CNN_models/model_fold_' + str(fold_idx+1))\n",
    "\n",
    "    # Based on https://alan.do/deep-gradient-boosted-learning-4e33adaf2969\n",
    "    feature_layer_model = keras.Model(\n",
    "                     inputs=trained_model.input,\n",
    "                     outputs=trained_model.get_layer(index=4).output)\n",
    "    feature_layer_output_train = feature_layer_model.predict(X_train)\n",
    "    param = {\n",
    "                'objective':'multi:softmax',\n",
    "                'num_class':11,\n",
    "                'learning_rate':.1,\n",
    "                'max_depth':5,\n",
    "                'alpha':10\n",
    "            }\n",
    "    dtrain = xgboost.DMatrix(feature_layer_output_train, label=y_train)\n",
    "    xgb_model = xgboost.train(param, dtrain, 100)\n",
    "    train_preds = xgb_model.predict(dtrain)\n",
    "\n",
    "    feature_layer_output_test = feature_layer_model.predict(X_test)\n",
    "    dtest = xgboost.DMatrix(feature_layer_output_test)\n",
    "    test_preds = xgb_model.predict(dtest)\n",
    "\n",
    "    train_accuracy = accuracy_score(y_train, train_preds)\n",
    "    test_accuracy = accuracy_score(y_test, test_preds)\n",
    "\n",
    "    train_accuracies.append(train_accuracy)\n",
    "    test_accuracies.append(test_accuracy)\n"
   ]
  },
  {
   "cell_type": "code",
   "execution_count": 6,
   "metadata": {},
   "outputs": [
    {
     "data": {
      "text/plain": [
       "[0.943034404963339, 0.9414961800748602, 0.9445213556888684]"
      ]
     },
     "execution_count": 6,
     "metadata": {},
     "output_type": "execute_result"
    }
   ],
   "source": [
    "test_accuracies"
   ]
  },
  {
   "cell_type": "code",
   "execution_count": 7,
   "metadata": {},
   "outputs": [
    {
     "data": {
      "text/plain": [
       "0.9430173135756892"
      ]
     },
     "execution_count": 7,
     "metadata": {},
     "output_type": "execute_result"
    }
   ],
   "source": [
    "np.mean(test_accuracies)"
   ]
  },
  {
   "cell_type": "code",
   "execution_count": null,
   "metadata": {},
   "outputs": [],
   "source": []
  }
 ],
 "metadata": {
  "interpreter": {
   "hash": "456d2a7118d35350561e2a2cece57887a28d81f04d055278ed4a029d882f7171"
  },
  "kernelspec": {
   "display_name": "Python 3.8.8 64-bit ('base': conda)",
   "name": "python3"
  },
  "language_info": {
   "codemirror_mode": {
    "name": "ipython",
    "version": 3
   },
   "file_extension": ".py",
   "mimetype": "text/x-python",
   "name": "python",
   "nbconvert_exporter": "python",
   "pygments_lexer": "ipython3",
   "version": "3.8.8"
  },
  "orig_nbformat": 4
 },
 "nbformat": 4,
 "nbformat_minor": 2
}
