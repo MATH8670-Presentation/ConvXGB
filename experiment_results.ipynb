{
 "cells": [
  {
   "cell_type": "code",
   "execution_count": 2,
   "metadata": {},
   "outputs": [],
   "source": [
    "import matplotlib.pyplot as plt\n",
    "import seaborn as sns\n",
    "sns.set()"
   ]
  },
  {
   "cell_type": "markdown",
   "metadata": {},
   "source": [
    "# Plot average accuracies from experiments \n",
    "Source of accuracy values:\n",
    "\n",
    "CNN - CNN_Model.ipynb\n",
    "\n",
    "XGBoost - XGBoost.ipynb\n",
    "\n",
    "XGBoostWpretrainedCNN - XGBoost_plus_pretrainedCNN.ipynb"
   ]
  },
  {
   "cell_type": "code",
   "execution_count": 13,
   "metadata": {},
   "outputs": [],
   "source": [
    "models = ['CNN','XGBoost','XGBoost w/ Pretrained CNN Feature Layer']\n",
    "accuracies = [.82189065,0.9948896750927209,.9430173135756892]"
   ]
  },
  {
   "cell_type": "code",
   "execution_count": 14,
   "metadata": {},
   "outputs": [
    {
     "data": {
      "text/plain": [
       "[(0.7, 1.0)]"
      ]
     },
     "execution_count": 14,
     "metadata": {},
     "output_type": "execute_result"
    },
    {
     "data": {
      "image/png": "[encoded data removed]",
      "text/plain": [
       "<Figure size 432x288 with 1 Axes>"
      ]
     },
     "metadata": {},
     "output_type": "display_data"
    }
   ],
   "source": [
    "p = sns.barplot(x=accuracies,y=models, orient='h')\n",
    "p.set(xlim=(.7,1))"
   ]
  },
  {
   "cell_type": "markdown",
   "metadata": {},
   "source": [
    "## Comments\n",
    "\n",
    "Although our CNN+XGBoost model performed much better than the CNN model alone, XGBoost alone had the best performance. With better tuning, it is possible both the CNN and XGBoost+CNN models would have done better. Another interesting note is regarding performance time. Running the experiment for the CNN model took about 3 minutes, while performing it with the CNN+XGBoost model took almost 6, even though the latter did not involve training the CNN model. "
   ]
  }
 ],
 "metadata": {
  "interpreter": {
   "hash": "456d2a7118d35350561e2a2cece57887a28d81f04d055278ed4a029d882f7171"
  },
  "kernelspec": {
   "display_name": "Python 3.8.8 64-bit ('base': conda)",
   "name": "python3"
  },
  "language_info": {
   "codemirror_mode": {
    "name": "ipython",
    "version": 3
   },
   "file_extension": ".py",
   "mimetype": "text/x-python",
   "name": "python",
   "nbconvert_exporter": "python",
   "pygments_lexer": "ipython3",
   "version": "3.8.8"
  },
  "orig_nbformat": 4
 },
 "nbformat": 4,
 "nbformat_minor": 2
}
