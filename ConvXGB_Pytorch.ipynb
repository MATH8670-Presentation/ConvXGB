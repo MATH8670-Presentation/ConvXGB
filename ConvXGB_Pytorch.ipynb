{
 "cells": [
  {
   "cell_type": "code",
   "execution_count": null,
   "metadata": {},
   "outputs": [],
   "source": [
    "# Train xgboost by epoch. \n",
    "# Start with default weights, train XGBoost, produce accuracy\n",
    "# Run epoch again, but default weight will change, train XGBoost, product accuracy\n",
    "# continue"
   ]
  },
  {
   "cell_type": "code",
   "execution_count": 10,
   "metadata": {},
   "outputs": [],
   "source": [
    "import torch.nn as nn\n",
    "import torch.nn.functional as F\n",
    "import torch.optim as optim\n",
    "import torch\n",
    "\n",
    "import xgboost as xgb\n",
    "\n",
    "import pandas as pd\n",
    "import numpy as np"
   ]
  },
  {
   "cell_type": "code",
   "execution_count": 42,
   "metadata": {},
   "outputs": [
    {
     "data": {
      "text/html": [
       "<div>\n",
       "<style scoped>\n",
       "    .dataframe tbody tr th:only-of-type {\n",
       "        vertical-align: middle;\n",
       "    }\n",
       "\n",
       "    .dataframe tbody tr th {\n",
       "        vertical-align: top;\n",
       "    }\n",
       "\n",
       "    .dataframe thead th {\n",
       "        text-align: right;\n",
       "    }\n",
       "</style>\n",
       "<table border=\"1\" class=\"dataframe\">\n",
       "  <thead>\n",
       "    <tr style=\"text-align: right;\">\n",
       "      <th></th>\n",
       "      <th>F1</th>\n",
       "      <th>F2</th>\n",
       "      <th>F3</th>\n",
       "      <th>F4</th>\n",
       "      <th>F5</th>\n",
       "      <th>F6</th>\n",
       "      <th>F7</th>\n",
       "      <th>F8</th>\n",
       "      <th>F9</th>\n",
       "      <th>F10</th>\n",
       "      <th>...</th>\n",
       "      <th>F40</th>\n",
       "      <th>F41</th>\n",
       "      <th>F42</th>\n",
       "      <th>F43</th>\n",
       "      <th>F44</th>\n",
       "      <th>F45</th>\n",
       "      <th>F46</th>\n",
       "      <th>F47</th>\n",
       "      <th>F48</th>\n",
       "      <th>TARGET</th>\n",
       "    </tr>\n",
       "  </thead>\n",
       "  <tbody>\n",
       "    <tr>\n",
       "      <th>0</th>\n",
       "      <td>-3.014600e-07</td>\n",
       "      <td>8.260300e-06</td>\n",
       "      <td>-0.000012</td>\n",
       "      <td>-0.000002</td>\n",
       "      <td>-1.438600e-06</td>\n",
       "      <td>-0.000021</td>\n",
       "      <td>0.031718</td>\n",
       "      <td>0.031710</td>\n",
       "      <td>0.031721</td>\n",
       "      <td>-0.032963</td>\n",
       "      <td>...</td>\n",
       "      <td>-0.63308</td>\n",
       "      <td>2.9646</td>\n",
       "      <td>8.1198</td>\n",
       "      <td>-1.4961</td>\n",
       "      <td>-1.4961</td>\n",
       "      <td>-1.4961</td>\n",
       "      <td>-1.4996</td>\n",
       "      <td>-1.4996</td>\n",
       "      <td>-1.4996</td>\n",
       "      <td>1</td>\n",
       "    </tr>\n",
       "    <tr>\n",
       "      <th>1</th>\n",
       "      <td>2.913200e-06</td>\n",
       "      <td>-5.247700e-06</td>\n",
       "      <td>0.000003</td>\n",
       "      <td>-0.000006</td>\n",
       "      <td>2.778900e-06</td>\n",
       "      <td>-0.000004</td>\n",
       "      <td>0.030804</td>\n",
       "      <td>0.030810</td>\n",
       "      <td>0.030806</td>\n",
       "      <td>-0.033520</td>\n",
       "      <td>...</td>\n",
       "      <td>-0.59314</td>\n",
       "      <td>7.6252</td>\n",
       "      <td>6.1690</td>\n",
       "      <td>-1.4967</td>\n",
       "      <td>-1.4967</td>\n",
       "      <td>-1.4967</td>\n",
       "      <td>-1.5005</td>\n",
       "      <td>-1.5005</td>\n",
       "      <td>-1.5005</td>\n",
       "      <td>1</td>\n",
       "    </tr>\n",
       "    <tr>\n",
       "      <th>2</th>\n",
       "      <td>-2.951700e-06</td>\n",
       "      <td>-3.184000e-06</td>\n",
       "      <td>-0.000016</td>\n",
       "      <td>-0.000001</td>\n",
       "      <td>-1.575300e-06</td>\n",
       "      <td>0.000017</td>\n",
       "      <td>0.032877</td>\n",
       "      <td>0.032880</td>\n",
       "      <td>0.032896</td>\n",
       "      <td>-0.029834</td>\n",
       "      <td>...</td>\n",
       "      <td>-0.63252</td>\n",
       "      <td>2.7784</td>\n",
       "      <td>5.3017</td>\n",
       "      <td>-1.4983</td>\n",
       "      <td>-1.4983</td>\n",
       "      <td>-1.4982</td>\n",
       "      <td>-1.4985</td>\n",
       "      <td>-1.4985</td>\n",
       "      <td>-1.4985</td>\n",
       "      <td>1</td>\n",
       "    </tr>\n",
       "    <tr>\n",
       "      <th>3</th>\n",
       "      <td>-1.322600e-06</td>\n",
       "      <td>8.820100e-06</td>\n",
       "      <td>-0.000016</td>\n",
       "      <td>-0.000005</td>\n",
       "      <td>-7.282900e-07</td>\n",
       "      <td>0.000004</td>\n",
       "      <td>0.029410</td>\n",
       "      <td>0.029401</td>\n",
       "      <td>0.029417</td>\n",
       "      <td>-0.030156</td>\n",
       "      <td>...</td>\n",
       "      <td>-0.62289</td>\n",
       "      <td>6.5534</td>\n",
       "      <td>6.2606</td>\n",
       "      <td>-1.4963</td>\n",
       "      <td>-1.4963</td>\n",
       "      <td>-1.4963</td>\n",
       "      <td>-1.4975</td>\n",
       "      <td>-1.4975</td>\n",
       "      <td>-1.4976</td>\n",
       "      <td>1</td>\n",
       "    </tr>\n",
       "    <tr>\n",
       "      <th>4</th>\n",
       "      <td>-6.836600e-08</td>\n",
       "      <td>5.666300e-07</td>\n",
       "      <td>-0.000026</td>\n",
       "      <td>-0.000006</td>\n",
       "      <td>-7.940600e-07</td>\n",
       "      <td>0.000013</td>\n",
       "      <td>0.030119</td>\n",
       "      <td>0.030119</td>\n",
       "      <td>0.030145</td>\n",
       "      <td>-0.031393</td>\n",
       "      <td>...</td>\n",
       "      <td>-0.63010</td>\n",
       "      <td>4.5155</td>\n",
       "      <td>9.5231</td>\n",
       "      <td>-1.4958</td>\n",
       "      <td>-1.4958</td>\n",
       "      <td>-1.4958</td>\n",
       "      <td>-1.4959</td>\n",
       "      <td>-1.4959</td>\n",
       "      <td>-1.4959</td>\n",
       "      <td>1</td>\n",
       "    </tr>\n",
       "  </tbody>\n",
       "</table>\n",
       "<p>5 rows × 49 columns</p>\n",
       "</div>"
      ],
      "text/plain": [
       "             F1            F2        F3        F4            F5        F6  \\\n",
       "0 -3.014600e-07  8.260300e-06 -0.000012 -0.000002 -1.438600e-06 -0.000021   \n",
       "1  2.913200e-06 -5.247700e-06  0.000003 -0.000006  2.778900e-06 -0.000004   \n",
       "2 -2.951700e-06 -3.184000e-06 -0.000016 -0.000001 -1.575300e-06  0.000017   \n",
       "3 -1.322600e-06  8.820100e-06 -0.000016 -0.000005 -7.282900e-07  0.000004   \n",
       "4 -6.836600e-08  5.666300e-07 -0.000026 -0.000006 -7.940600e-07  0.000013   \n",
       "\n",
       "         F7        F8        F9       F10  ...      F40     F41     F42  \\\n",
       "0  0.031718  0.031710  0.031721 -0.032963  ... -0.63308  2.9646  8.1198   \n",
       "1  0.030804  0.030810  0.030806 -0.033520  ... -0.59314  7.6252  6.1690   \n",
       "2  0.032877  0.032880  0.032896 -0.029834  ... -0.63252  2.7784  5.3017   \n",
       "3  0.029410  0.029401  0.029417 -0.030156  ... -0.62289  6.5534  6.2606   \n",
       "4  0.030119  0.030119  0.030145 -0.031393  ... -0.63010  4.5155  9.5231   \n",
       "\n",
       "      F43     F44     F45     F46     F47     F48  TARGET  \n",
       "0 -1.4961 -1.4961 -1.4961 -1.4996 -1.4996 -1.4996       1  \n",
       "1 -1.4967 -1.4967 -1.4967 -1.5005 -1.5005 -1.5005       1  \n",
       "2 -1.4983 -1.4983 -1.4982 -1.4985 -1.4985 -1.4985       1  \n",
       "3 -1.4963 -1.4963 -1.4963 -1.4975 -1.4975 -1.4976       1  \n",
       "4 -1.4958 -1.4958 -1.4958 -1.4959 -1.4959 -1.4959       1  \n",
       "\n",
       "[5 rows x 49 columns]"
      ]
     },
     "execution_count": 42,
     "metadata": {},
     "output_type": "execute_result"
    }
   ],
   "source": [
    "data = pd.read_csv('./DATA/sensorless_data.csv')\n",
    "data.head()"
   ]
  },
  {
   "cell_type": "markdown",
   "metadata": {},
   "source": [
    "### Format input data"
   ]
  },
  {
   "cell_type": "code",
   "execution_count": 4,
   "metadata": {},
   "outputs": [
    {
     "data": {
      "text/html": [
       "<div>\n",
       "<style scoped>\n",
       "    .dataframe tbody tr th:only-of-type {\n",
       "        vertical-align: middle;\n",
       "    }\n",
       "\n",
       "    .dataframe tbody tr th {\n",
       "        vertical-align: top;\n",
       "    }\n",
       "\n",
       "    .dataframe thead th {\n",
       "        text-align: right;\n",
       "    }\n",
       "</style>\n",
       "<table border=\"1\" class=\"dataframe\">\n",
       "  <thead>\n",
       "    <tr style=\"text-align: right;\">\n",
       "      <th></th>\n",
       "      <th>F1</th>\n",
       "      <th>F2</th>\n",
       "      <th>F3</th>\n",
       "      <th>F4</th>\n",
       "      <th>F5</th>\n",
       "      <th>F6</th>\n",
       "      <th>F7</th>\n",
       "      <th>F8</th>\n",
       "      <th>F9</th>\n",
       "      <th>F10</th>\n",
       "      <th>...</th>\n",
       "      <th>F40</th>\n",
       "      <th>F41</th>\n",
       "      <th>F42</th>\n",
       "      <th>F43</th>\n",
       "      <th>F44</th>\n",
       "      <th>F45</th>\n",
       "      <th>F46</th>\n",
       "      <th>F47</th>\n",
       "      <th>F48</th>\n",
       "      <th>F49</th>\n",
       "    </tr>\n",
       "  </thead>\n",
       "  <tbody>\n",
       "    <tr>\n",
       "      <th>0</th>\n",
       "      <td>-3.014600e-07</td>\n",
       "      <td>8.260300e-06</td>\n",
       "      <td>-0.000012</td>\n",
       "      <td>-0.000002</td>\n",
       "      <td>-1.438600e-06</td>\n",
       "      <td>-0.000021</td>\n",
       "      <td>0.031718</td>\n",
       "      <td>0.031710</td>\n",
       "      <td>0.031721</td>\n",
       "      <td>-0.032963</td>\n",
       "      <td>...</td>\n",
       "      <td>-0.63308</td>\n",
       "      <td>2.9646</td>\n",
       "      <td>8.1198</td>\n",
       "      <td>-1.4961</td>\n",
       "      <td>-1.4961</td>\n",
       "      <td>-1.4961</td>\n",
       "      <td>-1.4996</td>\n",
       "      <td>-1.4996</td>\n",
       "      <td>-1.4996</td>\n",
       "      <td>0</td>\n",
       "    </tr>\n",
       "    <tr>\n",
       "      <th>1</th>\n",
       "      <td>2.913200e-06</td>\n",
       "      <td>-5.247700e-06</td>\n",
       "      <td>0.000003</td>\n",
       "      <td>-0.000006</td>\n",
       "      <td>2.778900e-06</td>\n",
       "      <td>-0.000004</td>\n",
       "      <td>0.030804</td>\n",
       "      <td>0.030810</td>\n",
       "      <td>0.030806</td>\n",
       "      <td>-0.033520</td>\n",
       "      <td>...</td>\n",
       "      <td>-0.59314</td>\n",
       "      <td>7.6252</td>\n",
       "      <td>6.1690</td>\n",
       "      <td>-1.4967</td>\n",
       "      <td>-1.4967</td>\n",
       "      <td>-1.4967</td>\n",
       "      <td>-1.5005</td>\n",
       "      <td>-1.5005</td>\n",
       "      <td>-1.5005</td>\n",
       "      <td>0</td>\n",
       "    </tr>\n",
       "    <tr>\n",
       "      <th>2</th>\n",
       "      <td>-2.951700e-06</td>\n",
       "      <td>-3.184000e-06</td>\n",
       "      <td>-0.000016</td>\n",
       "      <td>-0.000001</td>\n",
       "      <td>-1.575300e-06</td>\n",
       "      <td>0.000017</td>\n",
       "      <td>0.032877</td>\n",
       "      <td>0.032880</td>\n",
       "      <td>0.032896</td>\n",
       "      <td>-0.029834</td>\n",
       "      <td>...</td>\n",
       "      <td>-0.63252</td>\n",
       "      <td>2.7784</td>\n",
       "      <td>5.3017</td>\n",
       "      <td>-1.4983</td>\n",
       "      <td>-1.4983</td>\n",
       "      <td>-1.4982</td>\n",
       "      <td>-1.4985</td>\n",
       "      <td>-1.4985</td>\n",
       "      <td>-1.4985</td>\n",
       "      <td>0</td>\n",
       "    </tr>\n",
       "    <tr>\n",
       "      <th>3</th>\n",
       "      <td>-1.322600e-06</td>\n",
       "      <td>8.820100e-06</td>\n",
       "      <td>-0.000016</td>\n",
       "      <td>-0.000005</td>\n",
       "      <td>-7.282900e-07</td>\n",
       "      <td>0.000004</td>\n",
       "      <td>0.029410</td>\n",
       "      <td>0.029401</td>\n",
       "      <td>0.029417</td>\n",
       "      <td>-0.030156</td>\n",
       "      <td>...</td>\n",
       "      <td>-0.62289</td>\n",
       "      <td>6.5534</td>\n",
       "      <td>6.2606</td>\n",
       "      <td>-1.4963</td>\n",
       "      <td>-1.4963</td>\n",
       "      <td>-1.4963</td>\n",
       "      <td>-1.4975</td>\n",
       "      <td>-1.4975</td>\n",
       "      <td>-1.4976</td>\n",
       "      <td>0</td>\n",
       "    </tr>\n",
       "    <tr>\n",
       "      <th>4</th>\n",
       "      <td>-6.836600e-08</td>\n",
       "      <td>5.666300e-07</td>\n",
       "      <td>-0.000026</td>\n",
       "      <td>-0.000006</td>\n",
       "      <td>-7.940600e-07</td>\n",
       "      <td>0.000013</td>\n",
       "      <td>0.030119</td>\n",
       "      <td>0.030119</td>\n",
       "      <td>0.030145</td>\n",
       "      <td>-0.031393</td>\n",
       "      <td>...</td>\n",
       "      <td>-0.63010</td>\n",
       "      <td>4.5155</td>\n",
       "      <td>9.5231</td>\n",
       "      <td>-1.4958</td>\n",
       "      <td>-1.4958</td>\n",
       "      <td>-1.4958</td>\n",
       "      <td>-1.4959</td>\n",
       "      <td>-1.4959</td>\n",
       "      <td>-1.4959</td>\n",
       "      <td>0</td>\n",
       "    </tr>\n",
       "  </tbody>\n",
       "</table>\n",
       "<p>5 rows × 49 columns</p>\n",
       "</div>"
      ],
      "text/plain": [
       "             F1            F2        F3        F4            F5        F6  \\\n",
       "0 -3.014600e-07  8.260300e-06 -0.000012 -0.000002 -1.438600e-06 -0.000021   \n",
       "1  2.913200e-06 -5.247700e-06  0.000003 -0.000006  2.778900e-06 -0.000004   \n",
       "2 -2.951700e-06 -3.184000e-06 -0.000016 -0.000001 -1.575300e-06  0.000017   \n",
       "3 -1.322600e-06  8.820100e-06 -0.000016 -0.000005 -7.282900e-07  0.000004   \n",
       "4 -6.836600e-08  5.666300e-07 -0.000026 -0.000006 -7.940600e-07  0.000013   \n",
       "\n",
       "         F7        F8        F9       F10  ...      F40     F41     F42  \\\n",
       "0  0.031718  0.031710  0.031721 -0.032963  ... -0.63308  2.9646  8.1198   \n",
       "1  0.030804  0.030810  0.030806 -0.033520  ... -0.59314  7.6252  6.1690   \n",
       "2  0.032877  0.032880  0.032896 -0.029834  ... -0.63252  2.7784  5.3017   \n",
       "3  0.029410  0.029401  0.029417 -0.030156  ... -0.62289  6.5534  6.2606   \n",
       "4  0.030119  0.030119  0.030145 -0.031393  ... -0.63010  4.5155  9.5231   \n",
       "\n",
       "      F43     F44     F45     F46     F47     F48  F49  \n",
       "0 -1.4961 -1.4961 -1.4961 -1.4996 -1.4996 -1.4996    0  \n",
       "1 -1.4967 -1.4967 -1.4967 -1.5005 -1.5005 -1.5005    0  \n",
       "2 -1.4983 -1.4983 -1.4982 -1.4985 -1.4985 -1.4985    0  \n",
       "3 -1.4963 -1.4963 -1.4963 -1.4975 -1.4975 -1.4976    0  \n",
       "4 -1.4958 -1.4958 -1.4958 -1.4959 -1.4959 -1.4959    0  \n",
       "\n",
       "[5 rows x 49 columns]"
      ]
     },
     "execution_count": 4,
     "metadata": {},
     "output_type": "execute_result"
    }
   ],
   "source": [
    "x_cols = list(data.columns[:-1])\n",
    "X_data = data[x_cols].copy()\n",
    "# Adding 0 for easy reshaping\n",
    "X_data['F49'] = 0\n",
    "X_data.head()"
   ]
  },
  {
   "cell_type": "code",
   "execution_count": 81,
   "metadata": {},
   "outputs": [
    {
     "data": {
      "text/plain": [
       "58509"
      ]
     },
     "execution_count": 81,
     "metadata": {},
     "output_type": "execute_result"
    }
   ],
   "source": [
    "len(X_data)"
   ]
  },
  {
   "cell_type": "code",
   "execution_count": 82,
   "metadata": {},
   "outputs": [
    {
     "data": {
      "text/plain": [
       "(58509, 49)"
      ]
     },
     "execution_count": 82,
     "metadata": {},
     "output_type": "execute_result"
    }
   ],
   "source": [
    "X_data.shape"
   ]
  },
  {
   "cell_type": "code",
   "execution_count": 83,
   "metadata": {},
   "outputs": [
    {
     "data": {
      "text/plain": [
       "(58509, 1, 7, 7)"
      ]
     },
     "execution_count": 83,
     "metadata": {},
     "output_type": "execute_result"
    }
   ],
   "source": [
    "X = X_data.to_numpy().reshape((len(X_data),1,7,7))\n",
    "X.shape"
   ]
  },
  {
   "cell_type": "code",
   "execution_count": 95,
   "metadata": {},
   "outputs": [
    {
     "name": "stderr",
     "output_type": "stream",
     "text": [
      "C:\\Users\\thejj\\anaconda3\\envs\\pytorch\\lib\\site-packages\\ipykernel_launcher.py:1: UserWarning: To copy construct from a tensor, it is recommended to use sourceTensor.clone().detach() or sourceTensor.clone().detach().requires_grad_(True), rather than torch.tensor(sourceTensor).\n",
      "  \"\"\"Entry point for launching an IPython kernel.\n"
     ]
    },
    {
     "data": {
      "text/plain": [
       "torch.Size([58509, 1, 7, 7])"
      ]
     },
     "execution_count": 95,
     "metadata": {},
     "output_type": "execute_result"
    }
   ],
   "source": [
    "X = torch.tensor(X).float()\n",
    "X.shape"
   ]
  },
  {
   "cell_type": "code",
   "execution_count": 85,
   "metadata": {},
   "outputs": [],
   "source": [
    "yt = torch.tensor(list(data['TARGET']-1))"
   ]
  },
  {
   "cell_type": "code",
   "execution_count": 86,
   "metadata": {},
   "outputs": [
    {
     "data": {
      "text/plain": [
       "tensor([ 0,  0,  0,  ..., 10, 10, 10])"
      ]
     },
     "execution_count": 86,
     "metadata": {},
     "output_type": "execute_result"
    }
   ],
   "source": [
    "yt"
   ]
  },
  {
   "cell_type": "code",
   "execution_count": 87,
   "metadata": {},
   "outputs": [
    {
     "data": {
      "text/plain": [
       "tensor([[1., 0., 0.,  ..., 0., 0., 0.],\n",
       "        [1., 0., 0.,  ..., 0., 0., 0.],\n",
       "        [1., 0., 0.,  ..., 0., 0., 0.],\n",
       "        ...,\n",
       "        [0., 0., 0.,  ..., 0., 0., 1.],\n",
       "        [0., 0., 0.,  ..., 0., 0., 1.],\n",
       "        [0., 0., 0.,  ..., 0., 0., 1.]])"
      ]
     },
     "execution_count": 87,
     "metadata": {},
     "output_type": "execute_result"
    }
   ],
   "source": [
    "y = torch.zeros(yt.shape[0], 11)\n",
    "y.scatter_(1, yt.unsqueeze(1), 1)"
   ]
  },
  {
   "cell_type": "code",
   "execution_count": 88,
   "metadata": {},
   "outputs": [
    {
     "data": {
      "text/plain": [
       "torch.Size([58509, 1, 11])"
      ]
     },
     "execution_count": 88,
     "metadata": {},
     "output_type": "execute_result"
    }
   ],
   "source": [
    "y.unsqueeze(1).shape"
   ]
  },
  {
   "cell_type": "code",
   "execution_count": null,
   "metadata": {},
   "outputs": [],
   "source": []
  },
  {
   "cell_type": "markdown",
   "metadata": {},
   "source": [
    "### Randomizing dataset"
   ]
  },
  {
   "cell_type": "code",
   "execution_count": 89,
   "metadata": {},
   "outputs": [],
   "source": [
    "idxs = np.arange(len(X))\n",
    "samples = np.random.choice(idxs,size=10000)\n",
    "\n",
    "X_rand = X[samples]\n",
    "y_rand = y[samples]"
   ]
  },
  {
   "cell_type": "markdown",
   "metadata": {},
   "source": [
    "### Combined model attempt"
   ]
  },
  {
   "cell_type": "code",
   "execution_count": 90,
   "metadata": {},
   "outputs": [],
   "source": [
    "# Only contains layers up to flatten\n",
    "# Xgboost will take us to final 11 logits (probailities)\n",
    "# model = keras.models.Sequential([\n",
    "#     keras.layers.Conv2D(256, (2,2), strides=1, activation='relu', input_shape=(7,7,1)),\n",
    "#     keras.layers.Conv2D(256, (2,2), strides=1, activation='relu'),\n",
    "#     keras.layers.Flatten()\n",
    "# ])\n",
    "\n",
    "class CNN(nn.Module):\n",
    "    def __init__(self):\n",
    "        super().__init__()\n",
    "        self.conv1 = nn.Conv2d(1, 256, (2,2), stride=1)\n",
    "        self.conv2 = nn.Conv2d(256, 256, (2,2), stride=1)\n",
    "\n",
    "    def forward(self, x):\n",
    "        x = F.relu(self.conv1(x))\n",
    "        x = F.relu(self.conv2(x))\n",
    "        x = torch.flatten(x, 1) # flatten all dimensions except batch\n",
    "        return x\n",
    "\n",
    "\n",
    "cnn = CNN()"
   ]
  },
  {
   "cell_type": "code",
   "execution_count": 91,
   "metadata": {},
   "outputs": [],
   "source": [
    "criterion = nn.CrossEntropyLoss()\n",
    "optimizer = optim.Adam(cnn.parameters(), lr=0.001)"
   ]
  },
  {
   "cell_type": "code",
   "execution_count": 92,
   "metadata": {},
   "outputs": [
    {
     "data": {
      "text/plain": [
       "torch.Size([10000, 1, 7, 7])"
      ]
     },
     "execution_count": 92,
     "metadata": {},
     "output_type": "execute_result"
    }
   ],
   "source": [
    "X_rand.shape"
   ]
  },
  {
   "cell_type": "code",
   "execution_count": 94,
   "metadata": {},
   "outputs": [
    {
     "data": {
      "text/plain": [
       "tensor([[[-5.5173e-08, -5.9362e-06,  1.7998e-06,  1.7192e-06, -4.0898e-06,\n",
       "          -1.1193e-05,  2.2568e-02],\n",
       "         [ 2.2573e-02,  2.2572e-02,  9.5382e-03,  9.5423e-03,  9.5534e-03,\n",
       "           8.0762e-04,  3.0720e-04],\n",
       "         [ 5.3157e-04,  8.0442e-04,  2.5782e-04,  5.1103e-04,  1.7498e+00,\n",
       "           1.7498e+00,  1.7498e+00],\n",
       "         [ 1.7490e+00,  1.7489e+00,  1.7489e+00, -1.2353e-03, -1.1727e+00,\n",
       "          -6.2496e-01, -4.9502e-03],\n",
       "         [-1.7652e-01, -1.0123e-01,  3.3924e-03,  3.3943e-03,  3.3822e-03,\n",
       "          -6.4078e-05, -6.3066e-05],\n",
       "         [-4.2173e-05, -5.2963e-01,  1.8750e+01,  1.8028e+01, -4.6928e-01,\n",
       "           1.9009e+00,  6.4626e+00],\n",
       "         [-1.4981e+00, -1.4980e+00, -1.4980e+00, -1.4996e+00, -1.4996e+00,\n",
       "          -1.4996e+00,  0.0000e+00]]], dtype=torch.float64)"
      ]
     },
     "execution_count": 94,
     "metadata": {},
     "output_type": "execute_result"
    }
   ],
   "source": [
    "X_rand[0]"
   ]
  },
  {
   "cell_type": "code",
   "execution_count": 108,
   "metadata": {},
   "outputs": [],
   "source": [
    "optimizer.zero_grad()\n",
    "features = cnn(X_rand.float())"
   ]
  },
  {
   "cell_type": "code",
   "execution_count": 110,
   "metadata": {},
   "outputs": [
    {
     "data": {
      "text/plain": [
       "(10000, 6400)"
      ]
     },
     "execution_count": 110,
     "metadata": {},
     "output_type": "execute_result"
    }
   ],
   "source": [
    "features.detach().numpy()"
   ]
  },
  {
   "cell_type": "code",
   "execution_count": 113,
   "metadata": {},
   "outputs": [
    {
     "data": {
      "text/plain": [
       "torch.Size([10000, 11])"
      ]
     },
     "execution_count": 113,
     "metadata": {},
     "output_type": "execute_result"
    }
   ],
   "source": [
    "y_rand.shape"
   ]
  },
  {
   "cell_type": "code",
   "execution_count": 119,
   "metadata": {},
   "outputs": [
    {
     "data": {
      "text/plain": [
       "array([0.       , 0.       , 0.       , ..., 0.7548722, 0.       ,\n",
       "       0.       ], dtype=float32)"
      ]
     },
     "execution_count": 119,
     "metadata": {},
     "output_type": "execute_result"
    }
   ],
   "source": [
    "features.detach().numpy()[0]"
   ]
  },
  {
   "cell_type": "code",
   "execution_count": 133,
   "metadata": {},
   "outputs": [
    {
     "name": "stdout",
     "output_type": "stream",
     "text": [
      "[20:24:47] WARNING: ..\\src\\learner.cc:1061: Starting in XGBoost 1.3.0, the default evaluation metric used with the objective 'multi:softprob' was changed from 'merror' to 'mlogloss'. Explicitly set eval_metric if you'd like to restore the old behavior.\n"
     ]
    }
   ],
   "source": [
    "params = {'objective':'multi:softprob', 'num_class':11}\n",
    "labels = [list(r).index(0) for r in y_rand.numpy()]\n",
    "\n",
    "dtrain = xgb.DMatrix(features.detach().numpy(), label=labels)\n",
    "bst = xgb.train(params, dtrain)\n",
    "logits = bst.predict(dtrain)"
   ]
  },
  {
   "cell_type": "code",
   "execution_count": 170,
   "metadata": {},
   "outputs": [],
   "source": [
    "features[:,:11] = torch.tensor(logits)"
   ]
  },
  {
   "cell_type": "code",
   "execution_count": 176,
   "metadata": {},
   "outputs": [
    {
     "data": {
      "text/plain": [
       "torch.Size([10000, 11])"
      ]
     },
     "execution_count": 176,
     "metadata": {},
     "output_type": "execute_result"
    }
   ],
   "source": [
    "features[:,:11].shape"
   ]
  },
  {
   "cell_type": "code",
   "execution_count": 178,
   "metadata": {},
   "outputs": [
    {
     "data": {
      "text/plain": [
       "torch.Size([10000])"
      ]
     },
     "execution_count": 178,
     "metadata": {},
     "output_type": "execute_result"
    }
   ],
   "source": [
    "torch.tensor(labels).shape"
   ]
  },
  {
   "cell_type": "code",
   "execution_count": 173,
   "metadata": {},
   "outputs": [
    {
     "ename": "RuntimeError",
     "evalue": "Index out of range\nException raised from should_compute_output at ..\\torch/csrc/autograd/function.h:230 (most recent call first):\n00007FF8F71A6AD600007FF8F71A6A70 c10.dll!c10::Error::Error [<unknown file> @ <unknown line number>]\n00007FF8AFDAB93000007FF8AFDAB7C0 torch_cpu.dll!torch::autograd::Node::should_compute_output [<unknown file> @ <unknown line number>]\n00007FF8AFD589AF00007FF8AFD58910 torch_cpu.dll!torch::autograd::generated::AsStridedBackward::apply [<unknown file> @ <unknown line number>]\n00007FF8AFD4D96700007FF8AFD4D760 torch_cpu.dll!torch::autograd::Node::operator() [<unknown file> @ <unknown line number>]\n00007FF8B02259F900007FF8B02254A0 torch_cpu.dll!torch::autograd::Engine::add_thread_pool_task [<unknown file> @ <unknown line number>]\n00007FF8B02265A500007FF8B0226290 torch_cpu.dll!torch::autograd::Engine::evaluate_function [<unknown file> @ <unknown line number>]\n00007FF8B022B52C00007FF8B022B220 torch_cpu.dll!torch::autograd::Engine::thread_main [<unknown file> @ <unknown line number>]\n00007FF8B0227BFF00007FF8B0227A10 torch_cpu.dll!torch::autograd::Engine::execute_with_graph_task [<unknown file> @ <unknown line number>]\n00007FF8A777307800007FF8A774C550 torch_python.dll!THPShortStorage_New [<unknown file> @ <unknown line number>]\n00007FF8B022793D00007FF8B0227600 torch_cpu.dll!torch::autograd::Engine::execute [<unknown file> @ <unknown line number>]\n00007FF8A7772F4400007FF8A774C550 torch_python.dll!THPShortStorage_New [<unknown file> @ <unknown line number>]\n00007FF8A777190000007FF8A774C550 torch_python.dll!THPShortStorage_New [<unknown file> @ <unknown line number>]\n00007FF8D918D06500007FF8D918CD10 python37.dll!PyMethodDef_RawFastCallKeywords [<unknown file> @ <unknown line number>]\n00007FF8D918D92F00007FF8D918CD10 python37.dll!PyMethodDef_RawFastCallKeywords [<unknown file> @ <unknown line number>]\n00007FF8D918EB5900007FF8D918DB60 python37.dll!PyEval_EvalFrameDefault [<unknown file> @ <unknown line number>]\n00007FF8D91775D600007FF8D9177430 python37.dll!PyEval_EvalCodeWithName [<unknown file> @ <unknown line number>]\n00007FF8D918D9F700007FF8D918CD10 python37.dll!PyMethodDef_RawFastCallKeywords [<unknown file> @ <unknown line number>]\n00007FF8D918E41200007FF8D918DB60 python37.dll!PyEval_EvalFrameDefault [<unknown file> @ <unknown line number>]\n00007FF8D91775D600007FF8D9177430 python37.dll!PyEval_EvalCodeWithName [<unknown file> @ <unknown line number>]\n00007FF8D918D9F700007FF8D918CD10 python37.dll!PyMethodDef_RawFastCallKeywords [<unknown file> @ <unknown line number>]\n00007FF8D918DF6300007FF8D918DB60 python37.dll!PyEval_EvalFrameDefault [<unknown file> @ <unknown line number>]\n00007FF8D91775D600007FF8D9177430 python37.dll!PyEval_EvalCodeWithName [<unknown file> @ <unknown line number>]\n00007FF8D9155B4C00007FF8D91557E0 python37.dll!PyImport_Import [<unknown file> @ <unknown line number>]\n00007FF8D9155A1100007FF8D91557E0 python37.dll!PyImport_Import [<unknown file> @ <unknown line number>]\n00007FF8D918CDC000007FF8D918CD10 python37.dll!PyMethodDef_RawFastCallKeywords [<unknown file> @ <unknown line number>]\n00007FF8D918D92F00007FF8D918CD10 python37.dll!PyMethodDef_RawFastCallKeywords [<unknown file> @ <unknown line number>]\n00007FF8D918E00F00007FF8D918DB60 python37.dll!PyEval_EvalFrameDefault [<unknown file> @ <unknown line number>]\n00007FF8D917389400007FF8D917364C python37.dll!PyObject_GetAttrId [<unknown file> @ <unknown line number>]\n00007FF8D91D4CC400007FF8D91AE8F0 python37.dll!PyErr_NoMemory [<unknown file> @ <unknown line number>]\n00007FF8D917389400007FF8D917364C python37.dll!PyObject_GetAttrId [<unknown file> @ <unknown line number>]\n00007FF8D91D4CC400007FF8D91AE8F0 python37.dll!PyErr_NoMemory [<unknown file> @ <unknown line number>]\n00007FF8D917389400007FF8D917364C python37.dll!PyObject_GetAttrId [<unknown file> @ <unknown line number>]\n00007FF8D918CDE100007FF8D918CD10 python37.dll!PyMethodDef_RawFastCallKeywords [<unknown file> @ <unknown line number>]\n00007FF8D918D76C00007FF8D918CD10 python37.dll!PyMethodDef_RawFastCallKeywords [<unknown file> @ <unknown line number>]\n00007FF8D918DF6300007FF8D918DB60 python37.dll!PyEval_EvalFrameDefault [<unknown file> @ <unknown line number>]\n00007FF8D918D8CB00007FF8D918CD10 python37.dll!PyMethodDef_RawFastCallKeywords [<unknown file> @ <unknown line number>]\n00007FF8D918E00F00007FF8D918DB60 python37.dll!PyEval_EvalFrameDefault [<unknown file> @ <unknown line number>]\n00007FF8D918D8CB00007FF8D918CD10 python37.dll!PyMethodDef_RawFastCallKeywords [<unknown file> @ <unknown line number>]\n00007FF8D918DF6300007FF8D918DB60 python37.dll!PyEval_EvalFrameDefault [<unknown file> @ <unknown line number>]\n00007FF8D91775D600007FF8D9177430 python37.dll!PyEval_EvalCodeWithName [<unknown file> @ <unknown line number>]\n00007FF8D917725A00007FF8D91770A0 python37.dll!PyFunction_FastCallDict [<unknown file> @ <unknown line number>]\n00007FF8D917620A00007FF8D9175E60 python37.dll!PyMethodDef_RawFastCallDict [<unknown file> @ <unknown line number>]\n00007FF8D919CE3400007FF8D919CC80 python37.dll!PySlice_New [<unknown file> @ <unknown line number>]\n00007FF8D918ECD400007FF8D918DB60 python37.dll!PyEval_EvalFrameDefault [<unknown file> @ <unknown line number>]\n00007FF8D91775D600007FF8D9177430 python37.dll!PyEval_EvalCodeWithName [<unknown file> @ <unknown line number>]\n00007FF8D918D9F700007FF8D918CD10 python37.dll!PyMethodDef_RawFastCallKeywords [<unknown file> @ <unknown line number>]\n00007FF8D918EB5900007FF8D918DB60 python37.dll!PyEval_EvalFrameDefault [<unknown file> @ <unknown line number>]\n00007FF8D917389400007FF8D917364C python37.dll!PyObject_GetAttrId [<unknown file> @ <unknown line number>]\n00007FF8D91D4CC400007FF8D91AE8F0 python37.dll!PyErr_NoMemory [<unknown file> @ <unknown line number>]\n00007FF8D917389400007FF8D917364C python37.dll!PyObject_GetAttrId [<unknown file> @ <unknown line number>]\n00007FF8D91D4CC400007FF8D91AE8F0 python37.dll!PyErr_NoMemory [<unknown file> @ <unknown line number>]\n00007FF8D917389400007FF8D917364C python37.dll!PyObject_GetAttrId [<unknown file> @ <unknown line number>]\n00007FF8D91D4CC400007FF8D91AE8F0 python37.dll!PyErr_NoMemory [<unknown file> @ <unknown line number>]\n00007FF8D917389400007FF8D917364C python37.dll!PyObject_GetAttrId [<unknown file> @ <unknown line number>]\n00007FF8D91D4CC400007FF8D91AE8F0 python37.dll!PyErr_NoMemory [<unknown file> @ <unknown line number>]\n00007FF8D917389400007FF8D917364C python37.dll!PyObject_GetAttrId [<unknown file> @ <unknown line number>]\n00007FF90A38207D <unknown symbol address> _asyncio.pyd!<unknown symbol> [<unknown file> @ <unknown line number>]\n00007FF90A381E40 <unknown symbol address> _asyncio.pyd!<unknown symbol> [<unknown file> @ <unknown line number>]\n00007FF8D91859AA00007FF8D9185830 python37.dll!PyObject_FastCallKeywords [<unknown file> @ <unknown line number>]\n00007FF8D92D8BC000007FF8D92D86D0 python37.dll!PyContext_NewHamtForTests [<unknown file> @ <unknown line number>]\n00007FF8D917600600007FF8D9175E60 python37.dll!PyMethodDef_RawFastCallDict [<unknown file> @ <unknown line number>]\n00007FF8D919CE9A00007FF8D919CC80 python37.dll!PySlice_New [<unknown file> @ <unknown line number>]\n00007FF8D918ECD400007FF8D918DB60 python37.dll!PyEval_EvalFrameDefault [<unknown file> @ <unknown line number>]\n00007FF8D918D8CB00007FF8D918CD10 python37.dll!PyMethodDef_RawFastCallKeywords [<unknown file> @ <unknown line number>]\n",
     "output_type": "error",
     "traceback": [
      "\u001b[1;31m---------------------------------------------------------------------------\u001b[0m",
      "\u001b[1;31mRuntimeError\u001b[0m                              Traceback (most recent call last)",
      "\u001b[1;32m~\\AppData\\Local\\Temp/ipykernel_5272/678055914.py\u001b[0m in \u001b[0;36m<module>\u001b[1;34m\u001b[0m\n\u001b[0;32m      1\u001b[0m \u001b[0mloss\u001b[0m \u001b[1;33m=\u001b[0m \u001b[0mcriterion\u001b[0m\u001b[1;33m(\u001b[0m\u001b[0mfeatures\u001b[0m\u001b[1;33m[\u001b[0m\u001b[1;33m:\u001b[0m\u001b[1;33m,\u001b[0m\u001b[1;33m:\u001b[0m\u001b[1;36m11\u001b[0m\u001b[1;33m]\u001b[0m\u001b[1;33m,\u001b[0m \u001b[0mtorch\u001b[0m\u001b[1;33m.\u001b[0m\u001b[0mtensor\u001b[0m\u001b[1;33m(\u001b[0m\u001b[0mlabels\u001b[0m\u001b[1;33m)\u001b[0m\u001b[1;33m)\u001b[0m\u001b[1;33m\u001b[0m\u001b[1;33m\u001b[0m\u001b[0m\n\u001b[1;32m----> 2\u001b[1;33m \u001b[0mloss\u001b[0m\u001b[1;33m.\u001b[0m\u001b[0mbackward\u001b[0m\u001b[1;33m(\u001b[0m\u001b[1;33m)\u001b[0m\u001b[1;33m\u001b[0m\u001b[1;33m\u001b[0m\u001b[0m\n\u001b[0m\u001b[0;32m      3\u001b[0m \u001b[0moptimizer\u001b[0m\u001b[1;33m.\u001b[0m\u001b[0mstep\u001b[0m\u001b[1;33m(\u001b[0m\u001b[1;33m)\u001b[0m\u001b[1;33m\u001b[0m\u001b[1;33m\u001b[0m\u001b[0m\n",
      "\u001b[1;32m~\\anaconda3\\envs\\pytorch\\lib\\site-packages\\torch\\tensor.py\u001b[0m in \u001b[0;36mbackward\u001b[1;34m(self, gradient, retain_graph, create_graph)\u001b[0m\n\u001b[0;32m    183\u001b[0m                 \u001b[0mproducts\u001b[0m\u001b[1;33m.\u001b[0m \u001b[0mDefaults\u001b[0m \u001b[0mto\u001b[0m\u001b[0;31m \u001b[0m\u001b[0;31m`\u001b[0m\u001b[0;31m`\u001b[0m\u001b[1;32mFalse\u001b[0m\u001b[0;31m`\u001b[0m\u001b[0;31m`\u001b[0m\u001b[1;33m.\u001b[0m\u001b[1;33m\u001b[0m\u001b[1;33m\u001b[0m\u001b[0m\n\u001b[0;32m    184\u001b[0m         \"\"\"\n\u001b[1;32m--> 185\u001b[1;33m         \u001b[0mtorch\u001b[0m\u001b[1;33m.\u001b[0m\u001b[0mautograd\u001b[0m\u001b[1;33m.\u001b[0m\u001b[0mbackward\u001b[0m\u001b[1;33m(\u001b[0m\u001b[0mself\u001b[0m\u001b[1;33m,\u001b[0m \u001b[0mgradient\u001b[0m\u001b[1;33m,\u001b[0m \u001b[0mretain_graph\u001b[0m\u001b[1;33m,\u001b[0m \u001b[0mcreate_graph\u001b[0m\u001b[1;33m)\u001b[0m\u001b[1;33m\u001b[0m\u001b[1;33m\u001b[0m\u001b[0m\n\u001b[0m\u001b[0;32m    186\u001b[0m \u001b[1;33m\u001b[0m\u001b[0m\n\u001b[0;32m    187\u001b[0m     \u001b[1;32mdef\u001b[0m \u001b[0mregister_hook\u001b[0m\u001b[1;33m(\u001b[0m\u001b[0mself\u001b[0m\u001b[1;33m,\u001b[0m \u001b[0mhook\u001b[0m\u001b[1;33m)\u001b[0m\u001b[1;33m:\u001b[0m\u001b[1;33m\u001b[0m\u001b[1;33m\u001b[0m\u001b[0m\n",
      "\u001b[1;32m~\\anaconda3\\envs\\pytorch\\lib\\site-packages\\torch\\autograd\\__init__.py\u001b[0m in \u001b[0;36mbackward\u001b[1;34m(tensors, grad_tensors, retain_graph, create_graph, grad_variables)\u001b[0m\n\u001b[0;32m    125\u001b[0m     Variable._execution_engine.run_backward(\n\u001b[0;32m    126\u001b[0m         \u001b[0mtensors\u001b[0m\u001b[1;33m,\u001b[0m \u001b[0mgrad_tensors\u001b[0m\u001b[1;33m,\u001b[0m \u001b[0mretain_graph\u001b[0m\u001b[1;33m,\u001b[0m \u001b[0mcreate_graph\u001b[0m\u001b[1;33m,\u001b[0m\u001b[1;33m\u001b[0m\u001b[1;33m\u001b[0m\u001b[0m\n\u001b[1;32m--> 127\u001b[1;33m         allow_unreachable=True)  # allow_unreachable flag\n\u001b[0m\u001b[0;32m    128\u001b[0m \u001b[1;33m\u001b[0m\u001b[0m\n\u001b[0;32m    129\u001b[0m \u001b[1;33m\u001b[0m\u001b[0m\n",
      "\u001b[1;31mRuntimeError\u001b[0m: Index out of range\nException raised from should_compute_output at ..\\torch/csrc/autograd/function.h:230 (most recent call first):\n00007FF8F71A6AD600007FF8F71A6A70 c10.dll!c10::Error::Error [<unknown file> @ <unknown line number>]\n00007FF8AFDAB93000007FF8AFDAB7C0 torch_cpu.dll!torch::autograd::Node::should_compute_output [<unknown file> @ <unknown line number>]\n00007FF8AFD589AF00007FF8AFD58910 torch_cpu.dll!torch::autograd::generated::AsStridedBackward::apply [<unknown file> @ <unknown line number>]\n00007FF8AFD4D96700007FF8AFD4D760 torch_cpu.dll!torch::autograd::Node::operator() [<unknown file> @ <unknown line number>]\n00007FF8B02259F900007FF8B02254A0 torch_cpu.dll!torch::autograd::Engine::add_thread_pool_task [<unknown file> @ <unknown line number>]\n00007FF8B02265A500007FF8B0226290 torch_cpu.dll!torch::autograd::Engine::evaluate_function [<unknown file> @ <unknown line number>]\n00007FF8B022B52C00007FF8B022B220 torch_cpu.dll!torch::autograd::Engine::thread_main [<unknown file> @ <unknown line number>]\n00007FF8B0227BFF00007FF8B0227A10 torch_cpu.dll!torch::autograd::Engine::execute_with_graph_task [<unknown file> @ <unknown line number>]\n00007FF8A777307800007FF8A774C550 torch_python.dll!THPShortStorage_New [<unknown file> @ <unknown line number>]\n00007FF8B022793D00007FF8B0227600 torch_cpu.dll!torch::autograd::Engine::execute [<unknown file> @ <unknown line number>]\n00007FF8A7772F4400007FF8A774C550 torch_python.dll!THPShortStorage_New [<unknown file> @ <unknown line number>]\n00007FF8A777190000007FF8A774C550 torch_python.dll!THPShortStorage_New [<unknown file> @ <unknown line number>]\n00007FF8D918D06500007FF8D918CD10 python37.dll!PyMethodDef_RawFastCallKeywords [<unknown file> @ <unknown line number>]\n00007FF8D918D92F00007FF8D918CD10 python37.dll!PyMethodDef_RawFastCallKeywords [<unknown file> @ <unknown line number>]\n00007FF8D918EB5900007FF8D918DB60 python37.dll!PyEval_EvalFrameDefault [<unknown file> @ <unknown line number>]\n00007FF8D91775D600007FF8D9177430 python37.dll!PyEval_EvalCodeWithName [<unknown file> @ <unknown line number>]\n00007FF8D918D9F700007FF8D918CD10 python37.dll!PyMethodDef_RawFastCallKeywords [<unknown file> @ <unknown line number>]\n00007FF8D918E41200007FF8D918DB60 python37.dll!PyEval_EvalFrameDefault [<unknown file> @ <unknown line number>]\n00007FF8D91775D600007FF8D9177430 python37.dll!PyEval_EvalCodeWithName [<unknown file> @ <unknown line number>]\n00007FF8D918D9F700007FF8D918CD10 python37.dll!PyMethodDef_RawFastCallKeywords [<unknown file> @ <unknown line number>]\n00007FF8D918DF6300007FF8D918DB60 python37.dll!PyEval_EvalFrameDefault [<unknown file> @ <unknown line number>]\n00007FF8D91775D600007FF8D9177430 python37.dll!PyEval_EvalCodeWithName [<unknown file> @ <unknown line number>]\n00007FF8D9155B4C00007FF8D91557E0 python37.dll!PyImport_Import [<unknown file> @ <unknown line number>]\n00007FF8D9155A1100007FF8D91557E0 python37.dll!PyImport_Import [<unknown file> @ <unknown line number>]\n00007FF8D918CDC000007FF8D918CD10 python37.dll!PyMethodDef_RawFastCallKeywords [<unknown file> @ <unknown line number>]\n00007FF8D918D92F00007FF8D918CD10 python37.dll!PyMethodDef_RawFastCallKeywords [<unknown file> @ <unknown line number>]\n00007FF8D918E00F00007FF8D918DB60 python37.dll!PyEval_EvalFrameDefault [<unknown file> @ <unknown line number>]\n00007FF8D917389400007FF8D917364C python37.dll!PyObject_GetAttrId [<unknown file> @ <unknown line number>]\n00007FF8D91D4CC400007FF8D91AE8F0 python37.dll!PyErr_NoMemory [<unknown file> @ <unknown line number>]\n00007FF8D917389400007FF8D917364C python37.dll!PyObject_GetAttrId [<unknown file> @ <unknown line number>]\n00007FF8D91D4CC400007FF8D91AE8F0 python37.dll!PyErr_NoMemory [<unknown file> @ <unknown line number>]\n00007FF8D917389400007FF8D917364C python37.dll!PyObject_GetAttrId [<unknown file> @ <unknown line number>]\n00007FF8D918CDE100007FF8D918CD10 python37.dll!PyMethodDef_RawFastCallKeywords [<unknown file> @ <unknown line number>]\n00007FF8D918D76C00007FF8D918CD10 python37.dll!PyMethodDef_RawFastCallKeywords [<unknown file> @ <unknown line number>]\n00007FF8D918DF6300007FF8D918DB60 python37.dll!PyEval_EvalFrameDefault [<unknown file> @ <unknown line number>]\n00007FF8D918D8CB00007FF8D918CD10 python37.dll!PyMethodDef_RawFastCallKeywords [<unknown file> @ <unknown line number>]\n00007FF8D918E00F00007FF8D918DB60 python37.dll!PyEval_EvalFrameDefault [<unknown file> @ <unknown line number>]\n00007FF8D918D8CB00007FF8D918CD10 python37.dll!PyMethodDef_RawFastCallKeywords [<unknown file> @ <unknown line number>]\n00007FF8D918DF6300007FF8D918DB60 python37.dll!PyEval_EvalFrameDefault [<unknown file> @ <unknown line number>]\n00007FF8D91775D600007FF8D9177430 python37.dll!PyEval_EvalCodeWithName [<unknown file> @ <unknown line number>]\n00007FF8D917725A00007FF8D91770A0 python37.dll!PyFunction_FastCallDict [<unknown file> @ <unknown line number>]\n00007FF8D917620A00007FF8D9175E60 python37.dll!PyMethodDef_RawFastCallDict [<unknown file> @ <unknown line number>]\n00007FF8D919CE3400007FF8D919CC80 python37.dll!PySlice_New [<unknown file> @ <unknown line number>]\n00007FF8D918ECD400007FF8D918DB60 python37.dll!PyEval_EvalFrameDefault [<unknown file> @ <unknown line number>]\n00007FF8D91775D600007FF8D9177430 python37.dll!PyEval_EvalCodeWithName [<unknown file> @ <unknown line number>]\n00007FF8D918D9F700007FF8D918CD10 python37.dll!PyMethodDef_RawFastCallKeywords [<unknown file> @ <unknown line number>]\n00007FF8D918EB5900007FF8D918DB60 python37.dll!PyEval_EvalFrameDefault [<unknown file> @ <unknown line number>]\n00007FF8D917389400007FF8D917364C python37.dll!PyObject_GetAttrId [<unknown file> @ <unknown line number>]\n00007FF8D91D4CC400007FF8D91AE8F0 python37.dll!PyErr_NoMemory [<unknown file> @ <unknown line number>]\n00007FF8D917389400007FF8D917364C python37.dll!PyObject_GetAttrId [<unknown file> @ <unknown line number>]\n00007FF8D91D4CC400007FF8D91AE8F0 python37.dll!PyErr_NoMemory [<unknown file> @ <unknown line number>]\n00007FF8D917389400007FF8D917364C python37.dll!PyObject_GetAttrId [<unknown file> @ <unknown line number>]\n00007FF8D91D4CC400007FF8D91AE8F0 python37.dll!PyErr_NoMemory [<unknown file> @ <unknown line number>]\n00007FF8D917389400007FF8D917364C python37.dll!PyObject_GetAttrId [<unknown file> @ <unknown line number>]\n00007FF8D91D4CC400007FF8D91AE8F0 python37.dll!PyErr_NoMemory [<unknown file> @ <unknown line number>]\n00007FF8D917389400007FF8D917364C python37.dll!PyObject_GetAttrId [<unknown file> @ <unknown line number>]\n00007FF90A38207D <unknown symbol address> _asyncio.pyd!<unknown symbol> [<unknown file> @ <unknown line number>]\n00007FF90A381E40 <unknown symbol address> _asyncio.pyd!<unknown symbol> [<unknown file> @ <unknown line number>]\n00007FF8D91859AA00007FF8D9185830 python37.dll!PyObject_FastCallKeywords [<unknown file> @ <unknown line number>]\n00007FF8D92D8BC000007FF8D92D86D0 python37.dll!PyContext_NewHamtForTests [<unknown file> @ <unknown line number>]\n00007FF8D917600600007FF8D9175E60 python37.dll!PyMethodDef_RawFastCallDict [<unknown file> @ <unknown line number>]\n00007FF8D919CE9A00007FF8D919CC80 python37.dll!PySlice_New [<unknown file> @ <unknown line number>]\n00007FF8D918ECD400007FF8D918DB60 python37.dll!PyEval_EvalFrameDefault [<unknown file> @ <unknown line number>]\n00007FF8D918D8CB00007FF8D918CD10 python37.dll!PyMethodDef_RawFastCallKeywords [<unknown file> @ <unknown line number>]\n"
     ]
    }
   ],
   "source": [
    "loss = criterion(features[:,:11], torch.tensor(labels))\n",
    "loss.backward()\n",
    "optimizer.step()"
   ]
  },
  {
   "cell_type": "code",
   "execution_count": null,
   "metadata": {},
   "outputs": [],
   "source": [
    "for epoch in range(3):  # loop over the dataset multiple times\n",
    "\n",
    "    running_loss = 0.0\n",
    "    \n",
    "    \n",
    "\n",
    "    # zero the parameter gradients\n",
    "    optimizer.zero_grad()\n",
    "    \n",
    "    # forward + backward + optimize\n",
    "    outputs = cnn(inputs)\n",
    "    loss = criterion(outputs, labels)\n",
    "    loss.backward()\n",
    "    optimizer.step()\n",
    "\n",
    "print('Finished Training')"
   ]
  }
 ],
 "metadata": {
  "interpreter": {
   "hash": "e3cd8131fc277c3da792a5aa20a81070d2bf9e9eb4bfbe9e61c416dab5b7d558"
  },
  "kernelspec": {
   "display_name": "Python 3.7.11 64-bit ('pytorch': conda)",
   "name": "python3"
  },
  "language_info": {
   "codemirror_mode": {
    "name": "ipython",
    "version": 3
   },
   "file_extension": ".py",
   "mimetype": "text/x-python",
   "name": "python",
   "nbconvert_exporter": "python",
   "pygments_lexer": "ipython3",
   "version": "3.7.11"
  }
 },
 "nbformat": 4,
 "nbformat_minor": 5
}
